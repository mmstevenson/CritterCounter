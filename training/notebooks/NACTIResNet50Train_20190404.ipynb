{
 "cells": [
  {
   "cell_type": "markdown",
   "metadata": {},
   "source": [
    "# Training an Image Classification model for NACTI"
   ]
  },
  {
   "cell_type": "markdown",
   "metadata": {},
   "source": [
    "Train a model on the inclusive empty vs animal dataframes"
   ]
  },
  {
   "cell_type": "markdown",
   "metadata": {},
   "source": [
    "### Set up the environment"
   ]
  },
  {
   "cell_type": "code",
   "execution_count": 4,
   "metadata": {},
   "outputs": [],
   "source": [
    "from keras import applications\n",
    "from keras.preprocessing.image import ImageDataGenerator\n",
    "from keras import optimizers\n",
    "from keras.models import Sequential\n",
    "from keras.layers import Dropout, Flatten, Dense\n",
    "from keras.utils.training_utils import multi_gpu_model\n",
    "from keras.callbacks import ModelCheckpoint, TensorBoard\n",
    "\n",
    "from collections import Counter\n",
    "\n",
    "import pandas as pd\n",
    "\n",
    "import os\n",
    "# os.environ[\"CUDA_DEVICE_ORDER\"]=\"PCI_BUS_ID\"   # see issue #152\n",
    "# os.environ[\"CUDA_VISIBLE_DEVICES\"]=\"0\""
   ]
  },
  {
   "cell_type": "code",
   "execution_count": 5,
   "metadata": {},
   "outputs": [],
   "source": [
    "# path to the model weights files.\n",
    "# weights_path = '../keras/examples/vgg16_weights.h5'\n",
    "# top_model_weights_path = 'fc_model.h5'\n",
    "# dimensions of our images.\n",
    "img_width, img_height = 224, 224\n",
    "\n",
    "train_dataframe_path = '/data/dataframes/inclusiveEVATrain.csv'\n",
    "validation_data_dir = '/data/dataframes/inclusiveEVATest.csv'\n",
    "checkpoint_dir = '/data/ResNet50/ResNet50_20190404_inclusiveEVA_weights.h5'\n",
    "tensorboard_dir = '/data/ResNet50/inclusiveEva/logs'\n",
    "nb_train_samples = 50000\n",
    "nb_validation_samples = 10000\n",
    "epochs = 25\n",
    "batch_size = 64\n",
    "# gpu_count = 2"
   ]
  },
  {
   "cell_type": "markdown",
   "metadata": {},
   "source": [
    "### Import the dataframes"
   ]
  },
  {
   "cell_type": "code",
   "execution_count": 6,
   "metadata": {},
   "outputs": [
    {
     "data": {
      "text/plain": [
       "2"
      ]
     },
     "execution_count": 6,
     "metadata": {},
     "output_type": "execute_result"
    }
   ],
   "source": [
    "# Import the training and validation dataframes\n",
    "train_df = pd.read_csv(train_dataframe_path)\n",
    "val_df = pd.read_csv(validation_data_dir)\n",
    "\n",
    "# Check to ensure that the camera trap locations are disjoint\n",
    "assert len(train_df[train_df['cam_location'].isin(val_df['cam_location'].unique())]) == 0, \"Train and validation are not disjoint\"\n",
    "\n",
    "# Get the number of classes\n",
    "min(train_df['target'].nunique(), val_df['target'].nunique())"
   ]
  },
  {
   "cell_type": "markdown",
   "metadata": {},
   "source": [
    "### Build the model"
   ]
  },
  {
   "cell_type": "code",
   "execution_count": 7,
   "metadata": {},
   "outputs": [
    {
     "name": "stdout",
     "output_type": "stream",
     "text": [
      "WARNING:tensorflow:From /home/ubuntu/anaconda3/envs/tensorflow_p36/lib/python3.6/site-packages/tensorflow/python/framework/op_def_library.py:263: colocate_with (from tensorflow.python.framework.ops) is deprecated and will be removed in a future version.\n",
      "Instructions for updating:\n",
      "Colocations handled automatically by placer.\n"
     ]
    },
    {
     "name": "stderr",
     "output_type": "stream",
     "text": [
      "/home/ubuntu/anaconda3/envs/tensorflow_p36/lib/python3.6/site-packages/keras_applications/resnet50.py:265: UserWarning: The output shape of `ResNet50(include_top=False)` has been changed since Keras 2.2.0.\n",
      "  warnings.warn('The output shape of `ResNet50(include_top=False)` '\n"
     ]
    },
    {
     "name": "stdout",
     "output_type": "stream",
     "text": [
      "Model loaded.\n",
      "WARNING:tensorflow:From /home/ubuntu/anaconda3/envs/tensorflow_p36/lib/python3.6/site-packages/keras/backend/tensorflow_backend.py:3445: calling dropout (from tensorflow.python.ops.nn_ops) with keep_prob is deprecated and will be removed in a future version.\n",
      "Instructions for updating:\n",
      "Please use `rate` instead of `keep_prob`. Rate should be set to `rate = 1 - keep_prob`.\n"
     ]
    }
   ],
   "source": [
    "# build the MobileNetV2 network\n",
    "ResNet50 = applications.ResNet50(weights='imagenet', include_top=False, input_shape=(img_width, img_height, 3))\n",
    "print('Model loaded.')\n",
    "\n",
    "# build a classifier model to put on top of the convolutional model\n",
    "model = Sequential()\n",
    "model.add(ResNet50)\n",
    "model.add(Flatten(input_shape=model.output_shape[1:]))\n",
    "model.add(Dense(196, activation='relu'))\n",
    "model.add(Dropout(0.5))\n",
    "model.add(Dense(2, activation='softmax'))\n",
    "\n",
    "# Make it a multi-gpu model if available\n",
    "# model = multi_gpu_model(model, gpus=gpu_count)\n",
    "\n",
    "# compile the model with a SGD/momentum optimizer\n",
    "# and a very slow learning rate.\n",
    "model.compile(loss='categorical_crossentropy',\n",
    "              optimizer=optimizers.SGD(lr=1e-4, momentum=0.9),\n",
    "              metrics=['accuracy'])\n",
    "\n",
    "checkpointer = ModelCheckpoint(filepath=checkpoint_dir, verbose=1, save_best_only=True)\n",
    "tboard = TensorBoard(tensorboard_dir)"
   ]
  },
  {
   "cell_type": "markdown",
   "metadata": {},
   "source": [
    "### Create Data Generators"
   ]
  },
  {
   "cell_type": "code",
   "execution_count": 10,
   "metadata": {},
   "outputs": [
    {
     "name": "stdout",
     "output_type": "stream",
     "text": [
      "Found 145639 images belonging to 2 classes.\n",
      "Found 51361 images belonging to 2 classes.\n",
      "{0: 1.0, 1: 1.0426800190748688}\n"
     ]
    }
   ],
   "source": [
    "# prepare data augmentation configuration\n",
    "train_datagen = ImageDataGenerator(\n",
    "    rotation_range=40,\n",
    "    width_shift_range=0.2,\n",
    "    height_shift_range=0.2,\n",
    "    rescale=1./255,\n",
    "    shear_range=0.2,\n",
    "    zoom_range=0.2,\n",
    "    horizontal_flip=True,\n",
    "    fill_mode='nearest')\n",
    "\n",
    "validation_datagen = ImageDataGenerator(rescale=1. / 255)\n",
    "\n",
    "train_generator = train_datagen.flow_from_dataframe(\n",
    "    train_df, \n",
    "    x_col='abs_file_path', \n",
    "    y_col ='target', \n",
    "    target_size=(img_width, img_height), \n",
    "    batch_size=batch_size, \n",
    "    shuffle=True,\n",
    "    class_mode='categorical')\n",
    "\n",
    "validation_generator = validation_datagen.flow_from_dataframe(\n",
    "    val_df, \n",
    "    x_col='abs_file_path', \n",
    "    y_col ='target', \n",
    "    target_size=(img_width, img_height), \n",
    "    batch_size=batch_size, \n",
    "    shuffle=True,\n",
    "    class_mode='categorical')\n",
    "\n",
    "counter = Counter(train_generator.classes)                          \n",
    "max_val = float(max(counter.values()))       \n",
    "class_weights = {class_id : max_val/num_images for class_id, num_images in counter.items()}  \n",
    "print(class_weights)"
   ]
  },
  {
   "cell_type": "markdown",
   "metadata": {},
   "source": [
    "Define the weights"
   ]
  },
  {
   "cell_type": "code",
   "execution_count": 11,
   "metadata": {},
   "outputs": [],
   "source": [
    "if max([v for k,v in class_weights.items()]) < 2:\n",
    "    class_weights = {0:1, 1:1}"
   ]
  },
  {
   "cell_type": "markdown",
   "metadata": {},
   "source": [
    "### Train the model"
   ]
  },
  {
   "cell_type": "code",
   "execution_count": 12,
   "metadata": {},
   "outputs": [
    {
     "name": "stdout",
     "output_type": "stream",
     "text": [
      "WARNING:tensorflow:From /home/ubuntu/anaconda3/envs/tensorflow_p36/lib/python3.6/site-packages/tensorflow/python/ops/math_ops.py:3066: to_int32 (from tensorflow.python.ops.math_ops) is deprecated and will be removed in a future version.\n",
      "Instructions for updating:\n",
      "Use tf.cast instead.\n",
      "Epoch 1/25\n",
      "781/781 [==============================] - 1491s 2s/step - loss: 0.3226 - acc: 0.8743 - val_loss: 0.5562 - val_acc: 0.7521\n",
      "\n",
      "Epoch 00001: val_loss improved from inf to 0.55618, saving model to /data/ResNet50/ResNet50_20190404_inclusiveEVA_weights.h5\n",
      "Epoch 2/25\n",
      "781/781 [==============================] - 1469s 2s/step - loss: 0.2096 - acc: 0.9195 - val_loss: 0.7481 - val_acc: 0.7092\n",
      "\n",
      "Epoch 00002: val_loss did not improve from 0.55618\n",
      "Epoch 3/25\n",
      "781/781 [==============================] - 1466s 2s/step - loss: 0.1849 - acc: 0.9287 - val_loss: 0.6217 - val_acc: 0.7505\n",
      "\n",
      "Epoch 00003: val_loss did not improve from 0.55618\n",
      "Epoch 4/25\n",
      "781/781 [==============================] - 1427s 2s/step - loss: 0.1688 - acc: 0.9354 - val_loss: 0.5545 - val_acc: 0.7711\n",
      "\n",
      "Epoch 00004: val_loss improved from 0.55618 to 0.55448, saving model to /data/ResNet50/ResNet50_20190404_inclusiveEVA_weights.h5\n",
      "Epoch 5/25\n",
      "781/781 [==============================] - 1413s 2s/step - loss: 0.1590 - acc: 0.9381 - val_loss: 0.4620 - val_acc: 0.8054\n",
      "\n",
      "Epoch 00005: val_loss improved from 0.55448 to 0.46202, saving model to /data/ResNet50/ResNet50_20190404_inclusiveEVA_weights.h5\n",
      "Epoch 6/25\n",
      "781/781 [==============================] - 1425s 2s/step - loss: 0.1527 - acc: 0.9405 - val_loss: 0.5375 - val_acc: 0.7907\n",
      "\n",
      "Epoch 00006: val_loss did not improve from 0.46202\n",
      "Epoch 7/25\n",
      "781/781 [==============================] - 1416s 2s/step - loss: 0.1477 - acc: 0.9407 - val_loss: 0.5645 - val_acc: 0.7857\n",
      "\n",
      "Epoch 00007: val_loss did not improve from 0.46202\n",
      "Epoch 8/25\n",
      "781/781 [==============================] - 1423s 2s/step - loss: 0.1401 - acc: 0.9447 - val_loss: 0.4875 - val_acc: 0.8002\n",
      "\n",
      "Epoch 00008: val_loss did not improve from 0.46202\n",
      "Epoch 9/25\n",
      "781/781 [==============================] - 1427s 2s/step - loss: 0.1360 - acc: 0.9463 - val_loss: 0.5215 - val_acc: 0.8028\n",
      "\n",
      "Epoch 00009: val_loss did not improve from 0.46202\n",
      "Epoch 10/25\n",
      "781/781 [==============================] - 1424s 2s/step - loss: 0.1332 - acc: 0.9473 - val_loss: 0.5486 - val_acc: 0.7946\n",
      "\n",
      "Epoch 00010: val_loss did not improve from 0.46202\n",
      "Epoch 11/25\n",
      "781/781 [==============================] - 1415s 2s/step - loss: 0.1305 - acc: 0.9499 - val_loss: 0.4852 - val_acc: 0.8157\n",
      "\n",
      "Epoch 00011: val_loss did not improve from 0.46202\n",
      "Epoch 12/25\n",
      "781/781 [==============================] - 1417s 2s/step - loss: 0.1280 - acc: 0.9502 - val_loss: 0.3665 - val_acc: 0.8514\n",
      "\n",
      "Epoch 00012: val_loss improved from 0.46202 to 0.36654, saving model to /data/ResNet50/ResNet50_20190404_inclusiveEVA_weights.h5\n",
      "Epoch 13/25\n",
      "781/781 [==============================] - 1417s 2s/step - loss: 0.1241 - acc: 0.9520 - val_loss: 0.3365 - val_acc: 0.8658\n",
      "\n",
      "Epoch 00013: val_loss improved from 0.36654 to 0.33653, saving model to /data/ResNet50/ResNet50_20190404_inclusiveEVA_weights.h5\n",
      "Epoch 14/25\n",
      "781/781 [==============================] - 1422s 2s/step - loss: 0.1220 - acc: 0.9528 - val_loss: 0.6846 - val_acc: 0.8065\n",
      "\n",
      "Epoch 00014: val_loss did not improve from 0.33653\n",
      "Epoch 15/25\n",
      "781/781 [==============================] - 1422s 2s/step - loss: 0.1221 - acc: 0.9520 - val_loss: 0.5791 - val_acc: 0.8132\n",
      "\n",
      "Epoch 00015: val_loss did not improve from 0.33653\n",
      "Epoch 16/25\n",
      "781/781 [==============================] - 1418s 2s/step - loss: 0.1184 - acc: 0.9543 - val_loss: 0.6970 - val_acc: 0.8032\n",
      "\n",
      "Epoch 00016: val_loss did not improve from 0.33653\n",
      "Epoch 17/25\n",
      "781/781 [==============================] - 1421s 2s/step - loss: 0.1192 - acc: 0.9536 - val_loss: 0.4986 - val_acc: 0.8308\n",
      "\n",
      "Epoch 00017: val_loss did not improve from 0.33653\n",
      "Epoch 18/25\n",
      "781/781 [==============================] - 1425s 2s/step - loss: 0.1159 - acc: 0.9552 - val_loss: 0.5628 - val_acc: 0.8185\n",
      "\n",
      "Epoch 00018: val_loss did not improve from 0.33653\n",
      "Epoch 19/25\n",
      "781/781 [==============================] - 1414s 2s/step - loss: 0.1123 - acc: 0.9570 - val_loss: 0.4953 - val_acc: 0.8329\n",
      "\n",
      "Epoch 00019: val_loss did not improve from 0.33653\n",
      "Epoch 20/25\n",
      "781/781 [==============================] - 1419s 2s/step - loss: 0.1158 - acc: 0.9555 - val_loss: 0.3756 - val_acc: 0.8542\n",
      "\n",
      "Epoch 00020: val_loss did not improve from 0.33653\n",
      "Epoch 21/25\n",
      "781/781 [==============================] - 1426s 2s/step - loss: 0.1133 - acc: 0.9554 - val_loss: 0.5507 - val_acc: 0.8210\n",
      "\n",
      "Epoch 00021: val_loss did not improve from 0.33653\n",
      "Epoch 22/25\n",
      "781/781 [==============================] - 1415s 2s/step - loss: 0.1095 - acc: 0.9578 - val_loss: 0.4720 - val_acc: 0.8379\n",
      "\n",
      "Epoch 00022: val_loss did not improve from 0.33653\n",
      "Epoch 23/25\n",
      "781/781 [==============================] - 1422s 2s/step - loss: 0.1089 - acc: 0.9592 - val_loss: 0.5026 - val_acc: 0.8389\n",
      "\n",
      "Epoch 00023: val_loss did not improve from 0.33653\n",
      "Epoch 24/25\n",
      "781/781 [==============================] - 1414s 2s/step - loss: 0.1076 - acc: 0.9585 - val_loss: 0.4198 - val_acc: 0.8477\n",
      "\n",
      "Epoch 00024: val_loss did not improve from 0.33653\n",
      "Epoch 25/25\n",
      "781/781 [==============================] - 1424s 2s/step - loss: 0.1089 - acc: 0.9581 - val_loss: 0.5379 - val_acc: 0.8290\n",
      "\n",
      "Epoch 00025: val_loss did not improve from 0.33653\n"
     ]
    }
   ],
   "source": [
    "# fine-tune the model\n",
    "history = model.fit_generator(\n",
    "    train_generator,\n",
    "    steps_per_epoch=nb_train_samples//batch_size,\n",
    "    epochs=epochs,\n",
    "    validation_data=validation_generator,\n",
    "    validation_steps=nb_validation_samples//batch_size, \n",
    "    class_weight=class_weights, \n",
    "    max_queue_size=batch_size*4,\n",
    "    callbacks=[checkpointer, tboard])"
   ]
  },
  {
   "cell_type": "code",
   "execution_count": 19,
   "metadata": {},
   "outputs": [
    {
     "data": {
      "text/plain": [
       "[<matplotlib.lines.Line2D at 0x7fac1f7f2748>]"
      ]
     },
     "execution_count": 19,
     "metadata": {},
     "output_type": "execute_result"
    },
    {
     "data": {
      "image/png": "[encoded data removed]",
      "text/plain": [
       "<Figure size 432x288 with 1 Axes>"
      ]
     },
     "metadata": {},
     "output_type": "display_data"
    }
   ],
   "source": [
    "import matplotlib.pyplot as plt\n",
    "%matplotlib inline\n",
    "\n",
    "plt.plot(history.history['val_loss'])"
   ]
  },
  {
   "cell_type": "code",
   "execution_count": 20,
   "metadata": {},
   "outputs": [
    {
     "data": {
      "text/plain": [
       "[<matplotlib.lines.Line2D at 0x7fac1f6cff60>]"
      ]
     },
     "execution_count": 20,
     "metadata": {},
     "output_type": "execute_result"
    },
    {
     "data": {
      "image/png": "[encoded data removed]",
      "text/plain": [
       "<Figure size 432x288 with 1 Axes>"
      ]
     },
     "metadata": {},
     "output_type": "display_data"
    }
   ],
   "source": [
    "plt.plot(history.history['loss'])"
   ]
  },
  {
   "cell_type": "code",
   "execution_count": 23,
   "metadata": {},
   "outputs": [
    {
     "data": {
      "text/plain": [
       "[<matplotlib.lines.Line2D at 0x7fac1f5cab38>]"
      ]
     },
     "execution_count": 23,
     "metadata": {},
     "output_type": "execute_result"
    },
    {
     "data": {
      "image/png": "[encoded data removed]",
      "text/plain": [
       "<Figure size 432x288 with 1 Axes>"
      ]
     },
     "metadata": {},
     "output_type": "display_data"
    }
   ],
   "source": [
    "plt.plot(history.history['val_acc'])"
   ]
  },
  {
   "cell_type": "code",
   "execution_count": 24,
   "metadata": {},
   "outputs": [
    {
     "data": {
      "text/plain": [
       "[<matplotlib.lines.Line2D at 0x7fac1f50c278>]"
      ]
     },
     "execution_count": 24,
     "metadata": {},
     "output_type": "execute_result"
    },
    {
     "data": {
      "image/png": "[encoded data removed]",
      "text/plain": [
       "<Figure size 432x288 with 1 Axes>"
      ]
     },
     "metadata": {},
     "output_type": "display_data"
    }
   ],
   "source": [
    "plt.plot(history.history['acc'])"
   ]
  },
  {
   "cell_type": "code",
   "execution_count": null,
   "metadata": {},
   "outputs": [],
   "source": []
  }
 ],
 "metadata": {
  "kernelspec": {
   "display_name": "Environment (conda_tensorflow_p36)",
   "language": "python",
   "name": "conda_tensorflow_p36"
  },
  "language_info": {
   "codemirror_mode": {
    "name": "ipython",
    "version": 3
   },
   "file_extension": ".py",
   "mimetype": "text/x-python",
   "name": "python",
   "nbconvert_exporter": "python",
   "pygments_lexer": "ipython3",
   "version": "3.6.5"
  }
 },
 "nbformat": 4,
 "nbformat_minor": 2
}
