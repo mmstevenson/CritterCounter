{
 "cells": [
  {
   "cell_type": "markdown",
   "metadata": {},
   "source": [
    "# Evaluate the performance of CritterCounter models"
   ]
  },
  {
   "cell_type": "markdown",
   "metadata": {},
   "source": [
    "We will use this to evaluate the performance of the models on the NACTI validation set."
   ]
  },
  {
   "cell_type": "markdown",
   "metadata": {},
   "source": [
    "### Set up the environment"
   ]
  },
  {
   "cell_type": "code",
   "execution_count": 1,
   "metadata": {},
   "outputs": [
    {
     "ename": "ModuleNotFoundError",
     "evalue": "No module named 'keras'",
     "output_type": "error",
     "traceback": [
      "\u001b[0;31m---------------------------------------------------------------------------\u001b[0m",
      "\u001b[0;31mModuleNotFoundError\u001b[0m                       Traceback (most recent call last)",
      "\u001b[0;32m<ipython-input-1-a0b328984ca2>\u001b[0m in \u001b[0;36m<module>\u001b[0;34m\u001b[0m\n\u001b[1;32m      2\u001b[0m \u001b[0;32mimport\u001b[0m \u001b[0mpandas\u001b[0m \u001b[0;32mas\u001b[0m \u001b[0mpd\u001b[0m\u001b[0;34m\u001b[0m\u001b[0;34m\u001b[0m\u001b[0m\n\u001b[1;32m      3\u001b[0m \u001b[0;32mimport\u001b[0m \u001b[0mre\u001b[0m\u001b[0;34m\u001b[0m\u001b[0;34m\u001b[0m\u001b[0m\n\u001b[0;32m----> 4\u001b[0;31m \u001b[0;32mfrom\u001b[0m \u001b[0mkeras\u001b[0m\u001b[0;34m.\u001b[0m\u001b[0mpreprocessing\u001b[0m\u001b[0;34m.\u001b[0m\u001b[0mimage\u001b[0m \u001b[0;32mimport\u001b[0m \u001b[0mImageDataGenerator\u001b[0m\u001b[0;34m\u001b[0m\u001b[0;34m\u001b[0m\u001b[0m\n\u001b[0m\u001b[1;32m      5\u001b[0m \u001b[0;32mfrom\u001b[0m \u001b[0mkeras\u001b[0m\u001b[0;34m.\u001b[0m\u001b[0mapplications\u001b[0m \u001b[0;32mimport\u001b[0m \u001b[0mResNet50\u001b[0m\u001b[0;34m\u001b[0m\u001b[0;34m\u001b[0m\u001b[0m\n\u001b[1;32m      6\u001b[0m \u001b[0;32mfrom\u001b[0m \u001b[0mkeras\u001b[0m\u001b[0;34m.\u001b[0m\u001b[0mmodels\u001b[0m \u001b[0;32mimport\u001b[0m \u001b[0mSequential\u001b[0m\u001b[0;34m\u001b[0m\u001b[0;34m\u001b[0m\u001b[0m\n",
      "\u001b[0;31mModuleNotFoundError\u001b[0m: No module named 'keras'"
     ]
    }
   ],
   "source": [
    "import os \n",
    "import pandas as pd\n",
    "import re\n",
    "from keras.preprocessing.image import ImageDataGenerator\n",
    "from keras.applications import ResNet50\n",
    "from keras.models import Sequential\n",
    "from keras.layers import Dropout, Flatten, Dense\n",
    "import numpy as np\n",
    "from sklearn.metrics import confusion_matrix"
   ]
  },
  {
   "cell_type": "markdown",
   "metadata": {},
   "source": [
    "## Import the holdout data"
   ]
  },
  {
   "cell_type": "markdown",
   "metadata": {},
   "source": [
    "### Create the data frame"
   ]
  },
  {
   "cell_type": "code",
   "execution_count": 2,
   "metadata": {},
   "outputs": [],
   "source": [
    "test_path = '/data/dataframes/speciesTest.csv'\n",
    "test_df = pd.read_csv(test_path)\n",
    "test_df['abs_file_path'] = '/data/nacti/' + test_df['file_path']"
   ]
  },
  {
   "cell_type": "code",
   "execution_count": 3,
   "metadata": {},
   "outputs": [
    {
     "name": "stdout",
     "output_type": "stream",
     "text": [
      "31833\n"
     ]
    },
    {
     "data": {
      "text/plain": [
       "american_black_bear    2500\n",
       "bobcat                 2500\n",
       "cougar                 2500\n",
       "coyote                 2500\n",
       "domestic_cow           2500\n",
       "domestic_dog            229\n",
       "elk                    2500\n",
       "gray_fox               2500\n",
       "moose                  2500\n",
       "mule_deer              2500\n",
       "red_deer               2500\n",
       "red_fox                 501\n",
       "vehicle                2500\n",
       "white_tailed_deer      2500\n",
       "wild_turkey            1000\n",
       "wolf                    103\n",
       "Name: category_name, dtype: int64"
      ]
     },
     "execution_count": 3,
     "metadata": {},
     "output_type": "execute_result"
    }
   ],
   "source": [
    "print(len(test_df))\n",
    "test_df['category_name'].value_counts().sort_index()"
   ]
  },
  {
   "cell_type": "code",
   "execution_count": 4,
   "metadata": {},
   "outputs": [
    {
     "data": {
      "text/html": [
       "<div>\n",
       "<style scoped>\n",
       "    .dataframe tbody tr th:only-of-type {\n",
       "        vertical-align: middle;\n",
       "    }\n",
       "\n",
       "    .dataframe tbody tr th {\n",
       "        vertical-align: top;\n",
       "    }\n",
       "\n",
       "    .dataframe thead th {\n",
       "        text-align: right;\n",
       "    }\n",
       "</style>\n",
       "<table border=\"1\" class=\"dataframe\">\n",
       "  <thead>\n",
       "    <tr style=\"text-align: right;\">\n",
       "      <th></th>\n",
       "      <th>category_id</th>\n",
       "      <th>id</th>\n",
       "      <th>image_id</th>\n",
       "      <th>file_path</th>\n",
       "      <th>category_name</th>\n",
       "      <th>subfolder</th>\n",
       "      <th>cam_location</th>\n",
       "      <th>abs_file_path</th>\n",
       "    </tr>\n",
       "  </thead>\n",
       "  <tbody>\n",
       "    <tr>\n",
       "      <th>0</th>\n",
       "      <td>67</td>\n",
       "      <td>c0dbc9c9-d98a-11e8-969f-000d3a71ec1a</td>\n",
       "      <td>WA-Site2_06322.JPG</td>\n",
       "      <td>sub344/WA-Site2_06322.JPG</td>\n",
       "      <td>american_black_bear</td>\n",
       "      <td>sub344</td>\n",
       "      <td>wa-site2</td>\n",
       "      <td>/data/nacti/sub344/WA-Site2_06322.JPG</td>\n",
       "    </tr>\n",
       "    <tr>\n",
       "      <th>1</th>\n",
       "      <td>67</td>\n",
       "      <td>c0e85457-d98a-11e8-969f-000d3a71ec1a</td>\n",
       "      <td>WA-Site2_22084.JPG</td>\n",
       "      <td>sub345/WA-Site2_22084.JPG</td>\n",
       "      <td>american_black_bear</td>\n",
       "      <td>sub345</td>\n",
       "      <td>wa-site2</td>\n",
       "      <td>/data/nacti/sub345/WA-Site2_22084.JPG</td>\n",
       "    </tr>\n",
       "    <tr>\n",
       "      <th>2</th>\n",
       "      <td>67</td>\n",
       "      <td>c0e854e3-d98a-11e8-969f-000d3a71ec1a</td>\n",
       "      <td>WA-Site2_22224.JPG</td>\n",
       "      <td>sub345/WA-Site2_22224.JPG</td>\n",
       "      <td>american_black_bear</td>\n",
       "      <td>sub345</td>\n",
       "      <td>wa-site2</td>\n",
       "      <td>/data/nacti/sub345/WA-Site2_22224.JPG</td>\n",
       "    </tr>\n",
       "    <tr>\n",
       "      <th>3</th>\n",
       "      <td>67</td>\n",
       "      <td>c0e9fb1d-d98a-11e8-969f-000d3a71ec1a</td>\n",
       "      <td>WA-Site2_23854.JPG</td>\n",
       "      <td>sub345/WA-Site2_23854.JPG</td>\n",
       "      <td>american_black_bear</td>\n",
       "      <td>sub345</td>\n",
       "      <td>wa-site2</td>\n",
       "      <td>/data/nacti/sub345/WA-Site2_23854.JPG</td>\n",
       "    </tr>\n",
       "    <tr>\n",
       "      <th>4</th>\n",
       "      <td>67</td>\n",
       "      <td>c0f5bfa3-d98a-11e8-969f-000d3a71ec1a</td>\n",
       "      <td>WA-Site2_38380.JPG</td>\n",
       "      <td>sub347/WA-Site2_38380.JPG</td>\n",
       "      <td>american_black_bear</td>\n",
       "      <td>sub347</td>\n",
       "      <td>wa-site2</td>\n",
       "      <td>/data/nacti/sub347/WA-Site2_38380.JPG</td>\n",
       "    </tr>\n",
       "  </tbody>\n",
       "</table>\n",
       "</div>"
      ],
      "text/plain": [
       "   category_id                                    id            image_id  \\\n",
       "0           67  c0dbc9c9-d98a-11e8-969f-000d3a71ec1a  WA-Site2_06322.JPG   \n",
       "1           67  c0e85457-d98a-11e8-969f-000d3a71ec1a  WA-Site2_22084.JPG   \n",
       "2           67  c0e854e3-d98a-11e8-969f-000d3a71ec1a  WA-Site2_22224.JPG   \n",
       "3           67  c0e9fb1d-d98a-11e8-969f-000d3a71ec1a  WA-Site2_23854.JPG   \n",
       "4           67  c0f5bfa3-d98a-11e8-969f-000d3a71ec1a  WA-Site2_38380.JPG   \n",
       "\n",
       "                   file_path        category_name subfolder cam_location  \\\n",
       "0  sub344/WA-Site2_06322.JPG  american_black_bear    sub344     wa-site2   \n",
       "1  sub345/WA-Site2_22084.JPG  american_black_bear    sub345     wa-site2   \n",
       "2  sub345/WA-Site2_22224.JPG  american_black_bear    sub345     wa-site2   \n",
       "3  sub345/WA-Site2_23854.JPG  american_black_bear    sub345     wa-site2   \n",
       "4  sub347/WA-Site2_38380.JPG  american_black_bear    sub347     wa-site2   \n",
       "\n",
       "                           abs_file_path  \n",
       "0  /data/nacti/sub344/WA-Site2_06322.JPG  \n",
       "1  /data/nacti/sub345/WA-Site2_22084.JPG  \n",
       "2  /data/nacti/sub345/WA-Site2_22224.JPG  \n",
       "3  /data/nacti/sub345/WA-Site2_23854.JPG  \n",
       "4  /data/nacti/sub347/WA-Site2_38380.JPG  "
      ]
     },
     "execution_count": 4,
     "metadata": {},
     "output_type": "execute_result"
    }
   ],
   "source": [
    "test_df.head()"
   ]
  },
  {
   "cell_type": "markdown",
   "metadata": {},
   "source": [
    "## Species Model Evaluation"
   ]
  },
  {
   "cell_type": "markdown",
   "metadata": {},
   "source": [
    "### Import the pretrained network"
   ]
  },
  {
   "cell_type": "code",
   "execution_count": 4,
   "metadata": {},
   "outputs": [],
   "source": [
    "img_width, img_height = 224, 224\n",
    "batch_size = 1\n",
    "model_path = '/data/ResNet50/ResNet50_20190404_species_weights.h5'"
   ]
  },
  {
   "cell_type": "code",
   "execution_count": 5,
   "metadata": {},
   "outputs": [
    {
     "name": "stdout",
     "output_type": "stream",
     "text": [
      "WARNING:tensorflow:From /home/ubuntu/anaconda3/envs/tensorflow_p36/lib/python3.6/site-packages/tensorflow/python/framework/op_def_library.py:263: colocate_with (from tensorflow.python.framework.ops) is deprecated and will be removed in a future version.\n",
      "Instructions for updating:\n",
      "Colocations handled automatically by placer.\n"
     ]
    },
    {
     "name": "stderr",
     "output_type": "stream",
     "text": [
      "/home/ubuntu/anaconda3/envs/tensorflow_p36/lib/python3.6/site-packages/keras_applications/resnet50.py:265: UserWarning: The output shape of `ResNet50(include_top=False)` has been changed since Keras 2.2.0.\n",
      "  warnings.warn('The output shape of `ResNet50(include_top=False)` '\n"
     ]
    },
    {
     "name": "stdout",
     "output_type": "stream",
     "text": [
      "Model loaded.\n",
      "WARNING:tensorflow:From /home/ubuntu/anaconda3/envs/tensorflow_p36/lib/python3.6/site-packages/keras/backend/tensorflow_backend.py:3445: calling dropout (from tensorflow.python.ops.nn_ops) with keep_prob is deprecated and will be removed in a future version.\n",
      "Instructions for updating:\n",
      "Please use `rate` instead of `keep_prob`. Rate should be set to `rate = 1 - keep_prob`.\n",
      "_________________________________________________________________\n",
      "Layer (type)                 Output Shape              Param #   \n",
      "=================================================================\n",
      "resnet50 (Model)             (None, 7, 7, 2048)        23587712  \n",
      "_________________________________________________________________\n",
      "flatten_1 (Flatten)          (None, 100352)            0         \n",
      "_________________________________________________________________\n",
      "dense_1 (Dense)              (None, 256)               25690368  \n",
      "_________________________________________________________________\n",
      "dropout_1 (Dropout)          (None, 256)               0         \n",
      "_________________________________________________________________\n",
      "dense_2 (Dense)              (None, 16)                4112      \n",
      "=================================================================\n",
      "Total params: 49,282,192\n",
      "Trainable params: 49,229,072\n",
      "Non-trainable params: 53,120\n",
      "_________________________________________________________________\n"
     ]
    }
   ],
   "source": [
    "# Define the model\n",
    "ResNet50 = ResNet50(weights=None, include_top=False, input_shape=(img_width, img_height, 3))\n",
    "print('Model loaded.')\n",
    "\n",
    "# build a classifier model to put on top of the convolutional model\n",
    "model = Sequential()\n",
    "model.add(ResNet50)\n",
    "model.add(Flatten(input_shape=model.output_shape[1:]))\n",
    "model.add(Dense(256, activation='relu'))\n",
    "model.add(Dropout(0.5))\n",
    "model.add(Dense(16, activation='softmax'))\n",
    "\n",
    "# Load the pretrained weights\n",
    "model.load_weights(model_path)\n",
    "model.summary()"
   ]
  },
  {
   "cell_type": "markdown",
   "metadata": {},
   "source": [
    "## Generator"
   ]
  },
  {
   "cell_type": "code",
   "execution_count": 6,
   "metadata": {},
   "outputs": [
    {
     "name": "stdout",
     "output_type": "stream",
     "text": [
      "Found 31833 images belonging to 16 classes.\n"
     ]
    }
   ],
   "source": [
    "test_samples = len(test_df)\n",
    "\n",
    "test_datagen = ImageDataGenerator(rescale=1/255.)\n",
    "\n",
    "test_generator = test_datagen.flow_from_dataframe(\n",
    "    test_df, \n",
    "    x_col='abs_file_path', \n",
    "    y_col ='category_name', \n",
    "    target_size=(img_width, img_height), \n",
    "    batch_size=batch_size, \n",
    "    shuffle=False,\n",
    "    class_mode='categorical')"
   ]
  },
  {
   "cell_type": "markdown",
   "metadata": {},
   "source": [
    "## Run Predictions"
   ]
  },
  {
   "cell_type": "code",
   "execution_count": null,
   "metadata": {},
   "outputs": [
    {
     "name": "stdout",
     "output_type": "stream",
     "text": [
      "17760/31833 [===============>..............] - ETA: 17:40"
     ]
    }
   ],
   "source": [
    "predictions = model.predict_generator(\n",
    "    test_generator, \n",
    "    steps=test_samples//batch_size,\n",
    "    verbose=True\n",
    ")"
   ]
  },
  {
   "cell_type": "code",
   "execution_count": 8,
   "metadata": {},
   "outputs": [],
   "source": [
    "# Save results\n",
    "np.save(file='/data/results/ResNet50_nacti_species_preds.npy', arr=predictions)"
   ]
  },
  {
   "cell_type": "markdown",
   "metadata": {},
   "source": [
    "# Evaluation"
   ]
  },
  {
   "cell_type": "markdown",
   "metadata": {},
   "source": [
    "## Build Results DataFrame"
   ]
  },
  {
   "cell_type": "code",
   "execution_count": 9,
   "metadata": {},
   "outputs": [
    {
     "data": {
      "text/plain": [
       "(31833, 16)"
      ]
     },
     "execution_count": 9,
     "metadata": {},
     "output_type": "execute_result"
    }
   ],
   "source": [
    "predictions.shape"
   ]
  },
  {
   "cell_type": "code",
   "execution_count": 10,
   "metadata": {},
   "outputs": [
    {
     "data": {
      "text/plain": [
       "mule_deer              2500\n",
       "coyote                 2500\n",
       "vehicle                2500\n",
       "white_tailed_deer      2500\n",
       "red_deer               2500\n",
       "elk                    2500\n",
       "bobcat                 2500\n",
       "domestic_cow           2500\n",
       "moose                  2500\n",
       "american_black_bear    2500\n",
       "gray_fox               2500\n",
       "cougar                 2500\n",
       "wild_turkey            1000\n",
       "red_fox                 501\n",
       "domestic_dog            229\n",
       "wolf                    103\n",
       "Name: category_name, dtype: int64"
      ]
     },
     "execution_count": 10,
     "metadata": {},
     "output_type": "execute_result"
    }
   ],
   "source": [
    "test_df['category_name'].value_counts()"
   ]
  },
  {
   "cell_type": "code",
   "execution_count": 11,
   "metadata": {},
   "outputs": [],
   "source": [
    "id_map = {\n",
    "    0: 'american_black_bear',\n",
    "    1: 'bobcat',\n",
    "    2: 'cougar',\n",
    "    3: 'coyote',\n",
    "    4: 'domestic_cow',\n",
    "    5: 'domestic_dog',\n",
    "    6: 'elk',\n",
    "    7: 'gray_fox',\n",
    "    8: 'moose',\n",
    "    9: 'mule_deer',\n",
    "    10: 'red_deer',\n",
    "    11: 'red_fox',\n",
    "    12: 'vehicle',\n",
    "    13: 'white_tailed_deer',\n",
    "    14: 'wild_turkey',\n",
    "    15: 'wolf'\n",
    "}"
   ]
  },
  {
   "cell_type": "code",
   "execution_count": 46,
   "metadata": {},
   "outputs": [],
   "source": [
    "preds = pd.DataFrame(predictions)\n",
    "results_df = pd.concat([test_df.reset_index(drop=True), preds], axis=1)\n",
    "results_df['top_class'] = pd.Series(predictions.argmax(axis=1))\n",
    "results_df['top_prob'] = pd.Series(predictions.max(axis=1))\n",
    "results_df['pred_category_name'] = results_df['top_class'].apply(lambda x: id_map[x])\n",
    "results_df['top_1_acc'] = results_df['category_name'] == results_df['pred_category_name']\n",
    "\n",
    "results_df['top_3_classes'] = pd.Series([list(i) for i in predictions.argsort(axis=1)[:,:-4:-1]])\n",
    "results_df['top_3_classes'] = results_df['top_3_classes'].apply(lambda x: [id_map[i] for i in x])\n",
    "results_df['top_3_acc'] = results_df.apply(lambda x: x['category_name'] in x['top_3_classes'], axis=1)\n",
    "\n",
    "results_df['top_5_classes'] = pd.Series([list(i) for i in predictions.argsort(axis=1)[:,:-6:-1]])\n",
    "results_df['top_5_classes'] = results_df['top_5_classes'].apply(lambda x: [id_map[i] for i in x])\n",
    "results_df['top_5_acc'] = results_df.apply(lambda x: x['category_name'] in x['top_5_classes'], axis=1)"
   ]
  },
  {
   "cell_type": "code",
   "execution_count": 48,
   "metadata": {},
   "outputs": [],
   "source": [
    "results_df.to_csv('/data/results/ResNet50_nacti_species_results.csv', index=False)"
   ]
  },
  {
   "cell_type": "markdown",
   "metadata": {},
   "source": [
    "## Evaluation Metrics"
   ]
  },
  {
   "cell_type": "code",
   "execution_count": 20,
   "metadata": {},
   "outputs": [],
   "source": [
    "from sklearn.metrics import confusion_matrix, f1_score, precision_score, recall_score, precision_recall_curve\n",
    "import seaborn as sns; sns.set()"
   ]
  },
  {
   "cell_type": "code",
   "execution_count": 21,
   "metadata": {},
   "outputs": [
    {
     "name": "stdout",
     "output_type": "stream",
     "text": [
      "Top 1 Accuracy: 83.01%\n",
      "Top 3 Accuracy: 95.60%\n",
      "Top 5 Accuracy: 98.38%\n",
      "F1 Score: 83.20%\n",
      "Precision Score: 84.09%\n",
      "Recall Score: 83.01%\n"
     ]
    }
   ],
   "source": [
    "print('Top 1 Accuracy: {:.2%}'.format(results_df['top_1_acc'].mean()))\n",
    "print('Top 3 Accuracy: {:.2%}'.format(results_df['top_3_acc'].mean()))\n",
    "print('Top 5 Accuracy: {:.2%}'.format(results_df['top_5_acc'].mean()))\n",
    "print('F1 Score: {:.2%}'.format(f1_score(results_df['category_name'], results_df['pred_category_name'], average='weighted')))\n",
    "print('Precision Score: {:.2%}'.format(precision_score(results_df['category_name'], results_df['pred_category_name'], average='weighted')))\n",
    "print('Recall Score: {:.2%}'.format(recall_score(results_df['category_name'], results_df['pred_category_name'], average='weighted')))\n"
   ]
  },
  {
   "cell_type": "markdown",
   "metadata": {},
   "source": [
    "## Categorical Breakdown"
   ]
  },
  {
   "cell_type": "code",
   "execution_count": 22,
   "metadata": {},
   "outputs": [
    {
     "data": {
      "text/plain": [
       "category_name\n",
       "american_black_bear    91.560000\n",
       "bobcat                 86.600000\n",
       "cougar                 81.680000\n",
       "coyote                 67.280000\n",
       "domestic_cow           91.400000\n",
       "domestic_dog           51.528384\n",
       "elk                    90.920000\n",
       "gray_fox               90.000000\n",
       "moose                  69.320000\n",
       "mule_deer              83.440000\n",
       "red_deer               73.880000\n",
       "red_fox                63.273453\n",
       "vehicle                90.120000\n",
       "white_tailed_deer      95.040000\n",
       "wild_turkey            66.100000\n",
       "wolf                   45.631068\n",
       "Name: top_1_acc, dtype: float64"
      ]
     },
     "execution_count": 22,
     "metadata": {},
     "output_type": "execute_result"
    }
   ],
   "source": [
    "results_df.groupby('category_name')['top_1_acc'].mean()*100"
   ]
  },
  {
   "cell_type": "code",
   "execution_count": 36,
   "metadata": {},
   "outputs": [
    {
     "data": {
      "text/plain": [
       "cam_location          pred_category_name \n",
       "2010_unit151_ivan033  american_black_bear       1\n",
       "                      coyote                   10\n",
       "                      domestic_dog              5\n",
       "                      mule_deer                80\n",
       "                      red_deer                 34\n",
       "                      red_fox                   4\n",
       "                      vehicle                   1\n",
       "                      wild_turkey               1\n",
       "2010_unit155_ivan015  mule_deer                21\n",
       "                      red_deer                 33\n",
       "2010_unit156_ivan057  coyote                   15\n",
       "                      mule_deer                10\n",
       "                      red_fox                   3\n",
       "2010_unit156_ivan058  coyote                    6\n",
       "                      moose                     1\n",
       "                      mule_deer                11\n",
       "                      red_deer                 11\n",
       "                      red_fox                   2\n",
       "2010_unit156_ivan063  american_black_bear       2\n",
       "                      coyote                   11\n",
       "                      domestic_cow              1\n",
       "                      moose                     1\n",
       "                      mule_deer                10\n",
       "                      red_deer                 10\n",
       "                      red_fox                   4\n",
       "2010_unit157_ivan108  american_black_bear       3\n",
       "                      cougar                    1\n",
       "                      coyote                   14\n",
       "                      mule_deer                28\n",
       "                      red_deer                  6\n",
       "                                             ... \n",
       "tag-tc28              cougar                    1\n",
       "                      coyote                   10\n",
       "                      domestic_cow              1\n",
       "                      vehicle                   1\n",
       "tag-tc34              vehicle                   1\n",
       "wa-site1              american_black_bear     186\n",
       "                      coyote                    4\n",
       "                      domestic_dog             12\n",
       "                      moose                     1\n",
       "                      red_deer                  1\n",
       "                      red_fox                   2\n",
       "                      wild_turkey               1\n",
       "wa-site2              american_black_bear    1462\n",
       "                      coyote                    6\n",
       "                      domestic_cow              1\n",
       "                      domestic_dog             61\n",
       "                      moose                     7\n",
       "                      mule_deer                 6\n",
       "                      red_deer                  4\n",
       "                      vehicle                   2\n",
       "                      white_tailed_deer         7\n",
       "wa-site4              american_black_bear     136\n",
       "                      coyote                    1\n",
       "wa-site6              american_black_bear      72\n",
       "                      coyote                   26\n",
       "                      moose                     1\n",
       "                      red_deer                  2\n",
       "                      white_tailed_deer         2\n",
       "wa-site8              american_black_bear     150\n",
       "                      vehicle                   3\n",
       "Name: file_path, Length: 1039, dtype: int64"
      ]
     },
     "execution_count": 36,
     "metadata": {},
     "output_type": "execute_result"
    }
   ],
   "source": [
    "results_df.groupby(['cam_location', 'pred_category_name'])['file_path'].count()"
   ]
  },
  {
   "cell_type": "code",
   "execution_count": 35,
   "metadata": {},
   "outputs": [
    {
     "data": {
      "text/plain": [
       "cam_location                category_name      \n",
       "2010_unit151_ivan033        american_black_bear       2\n",
       "                            coyote                    7\n",
       "                            mule_deer               100\n",
       "                            red_deer                 23\n",
       "                            red_fox                   4\n",
       "2010_unit155_ivan015        coyote                    3\n",
       "                            mule_deer                 4\n",
       "                            red_deer                 47\n",
       "2010_unit156_ivan057        coyote                   13\n",
       "                            mule_deer                10\n",
       "                            red_fox                   5\n",
       "2010_unit156_ivan058        coyote                    9\n",
       "                            mule_deer                12\n",
       "                            red_deer                  8\n",
       "                            red_fox                   2\n",
       "2010_unit156_ivan063        american_black_bear       1\n",
       "                            mule_deer                10\n",
       "                            red_deer                 19\n",
       "                            red_fox                   9\n",
       "2010_unit157_ivan108        coyote                    3\n",
       "                            mule_deer                46\n",
       "                            red_deer                  6\n",
       "                            red_fox                   3\n",
       "2010_unit158_ivan046        american_black_bear       1\n",
       "                            coyote                   57\n",
       "                            mule_deer                14\n",
       "                            red_deer                 97\n",
       "                            red_fox                   9\n",
       "2010_unit159_ivan032        american_black_bear       1\n",
       "                            red_fox                   9\n",
       "                                                   ... \n",
       "mixedbaitstations2_acam120  white_tailed_deer        32\n",
       "mixedbaitstations2_acam130  white_tailed_deer        64\n",
       "mixedbaitstations2_acam131  white_tailed_deer        34\n",
       "mixedbaitstations2_acam137  white_tailed_deer        59\n",
       "                            wild_turkey              24\n",
       "mixedbaitstations2_acam138  white_tailed_deer        25\n",
       "                            wild_turkey              27\n",
       "mixedbaitstations2_acam141  white_tailed_deer        40\n",
       "                            wild_turkey               5\n",
       "mixedbaitstations2_acam144  white_tailed_deer       212\n",
       "mixedbaitstations2_acam152  white_tailed_deer         2\n",
       "mixedbaitstations2_acam154  white_tailed_deer        92\n",
       "                            wild_turkey               5\n",
       "mixedbaitstations2_acam155  white_tailed_deer        75\n",
       "                            wild_turkey               5\n",
       "tag-tc03                    coyote                    6\n",
       "                            vehicle                  82\n",
       "tag-tc06                    coyote                    3\n",
       "                            vehicle                  78\n",
       "tag-tc28                    coyote                   13\n",
       "                            vehicle                   2\n",
       "tag-tc34                    vehicle                   1\n",
       "wa-site1                    american_black_bear     207\n",
       "wa-site2                    american_black_bear    1551\n",
       "                            coyote                    5\n",
       "wa-site4                    american_black_bear     137\n",
       "wa-site6                    american_black_bear      32\n",
       "                            coyote                   71\n",
       "wa-site8                    american_black_bear     109\n",
       "                            coyote                   44\n",
       "Name: file_path, Length: 769, dtype: int64"
      ]
     },
     "execution_count": 35,
     "metadata": {},
     "output_type": "execute_result"
    }
   ],
   "source": [
    "results_df.groupby(['cam_location', 'category_name'])['file_path'].count()"
   ]
  },
  {
   "cell_type": "code",
   "execution_count": 32,
   "metadata": {},
   "outputs": [
    {
     "data": {
      "text/plain": [
       "4.6177777777777775"
      ]
     },
     "execution_count": 32,
     "metadata": {},
     "output_type": "execute_result"
    }
   ],
   "source": [
    "results_df.groupby('cam_location')['pred_category_name'].nunique().mean()"
   ]
  },
  {
   "cell_type": "code",
   "execution_count": 28,
   "metadata": {},
   "outputs": [],
   "source": [
    "animal_df = results_df[results_df['category_name'].isin(['wolf', 'domestic_dog'])]"
   ]
  },
  {
   "cell_type": "code",
   "execution_count": 29,
   "metadata": {},
   "outputs": [
    {
     "data": {
      "text/html": [
       "<div>\n",
       "<style scoped>\n",
       "    .dataframe tbody tr th:only-of-type {\n",
       "        vertical-align: middle;\n",
       "    }\n",
       "\n",
       "    .dataframe tbody tr th {\n",
       "        vertical-align: top;\n",
       "    }\n",
       "\n",
       "    .dataframe thead th {\n",
       "        text-align: right;\n",
       "    }\n",
       "</style>\n",
       "<table border=\"1\" class=\"dataframe\">\n",
       "  <thead>\n",
       "    <tr style=\"text-align: right;\">\n",
       "      <th></th>\n",
       "      <th>category_name</th>\n",
       "      <th>pred_category_name</th>\n",
       "      <th>file_path</th>\n",
       "    </tr>\n",
       "  </thead>\n",
       "  <tbody>\n",
       "    <tr>\n",
       "      <th>0</th>\n",
       "      <td>domestic_dog</td>\n",
       "      <td>american_black_bear</td>\n",
       "      <td>6</td>\n",
       "    </tr>\n",
       "    <tr>\n",
       "      <th>1</th>\n",
       "      <td>domestic_dog</td>\n",
       "      <td>coyote</td>\n",
       "      <td>8</td>\n",
       "    </tr>\n",
       "    <tr>\n",
       "      <th>2</th>\n",
       "      <td>domestic_dog</td>\n",
       "      <td>domestic_dog</td>\n",
       "      <td>118</td>\n",
       "    </tr>\n",
       "    <tr>\n",
       "      <th>3</th>\n",
       "      <td>domestic_dog</td>\n",
       "      <td>moose</td>\n",
       "      <td>4</td>\n",
       "    </tr>\n",
       "    <tr>\n",
       "      <th>4</th>\n",
       "      <td>domestic_dog</td>\n",
       "      <td>mule_deer</td>\n",
       "      <td>76</td>\n",
       "    </tr>\n",
       "    <tr>\n",
       "      <th>5</th>\n",
       "      <td>domestic_dog</td>\n",
       "      <td>red_deer</td>\n",
       "      <td>4</td>\n",
       "    </tr>\n",
       "    <tr>\n",
       "      <th>6</th>\n",
       "      <td>domestic_dog</td>\n",
       "      <td>red_fox</td>\n",
       "      <td>11</td>\n",
       "    </tr>\n",
       "    <tr>\n",
       "      <th>7</th>\n",
       "      <td>domestic_dog</td>\n",
       "      <td>wild_turkey</td>\n",
       "      <td>2</td>\n",
       "    </tr>\n",
       "    <tr>\n",
       "      <th>8</th>\n",
       "      <td>wolf</td>\n",
       "      <td>american_black_bear</td>\n",
       "      <td>6</td>\n",
       "    </tr>\n",
       "    <tr>\n",
       "      <th>9</th>\n",
       "      <td>wolf</td>\n",
       "      <td>cougar</td>\n",
       "      <td>18</td>\n",
       "    </tr>\n",
       "    <tr>\n",
       "      <th>10</th>\n",
       "      <td>wolf</td>\n",
       "      <td>coyote</td>\n",
       "      <td>7</td>\n",
       "    </tr>\n",
       "    <tr>\n",
       "      <th>11</th>\n",
       "      <td>wolf</td>\n",
       "      <td>domestic_cow</td>\n",
       "      <td>11</td>\n",
       "    </tr>\n",
       "    <tr>\n",
       "      <th>12</th>\n",
       "      <td>wolf</td>\n",
       "      <td>gray_fox</td>\n",
       "      <td>14</td>\n",
       "    </tr>\n",
       "    <tr>\n",
       "      <th>13</th>\n",
       "      <td>wolf</td>\n",
       "      <td>wolf</td>\n",
       "      <td>47</td>\n",
       "    </tr>\n",
       "  </tbody>\n",
       "</table>\n",
       "</div>"
      ],
      "text/plain": [
       "   category_name   pred_category_name  file_path\n",
       "0   domestic_dog  american_black_bear          6\n",
       "1   domestic_dog               coyote          8\n",
       "2   domestic_dog         domestic_dog        118\n",
       "3   domestic_dog                moose          4\n",
       "4   domestic_dog            mule_deer         76\n",
       "5   domestic_dog             red_deer          4\n",
       "6   domestic_dog              red_fox         11\n",
       "7   domestic_dog          wild_turkey          2\n",
       "8           wolf  american_black_bear          6\n",
       "9           wolf               cougar         18\n",
       "10          wolf               coyote          7\n",
       "11          wolf         domestic_cow         11\n",
       "12          wolf             gray_fox         14\n",
       "13          wolf                 wolf         47"
      ]
     },
     "execution_count": 29,
     "metadata": {},
     "output_type": "execute_result"
    }
   ],
   "source": [
    "animal_df.groupby(['category_name', 'pred_category_name'])['file_path'].count().reset_index(drop=False)"
   ]
  },
  {
   "cell_type": "code",
   "execution_count": 40,
   "metadata": {},
   "outputs": [
    {
     "data": {
      "text/html": [
       "<div>\n",
       "<style scoped>\n",
       "    .dataframe tbody tr th:only-of-type {\n",
       "        vertical-align: middle;\n",
       "    }\n",
       "\n",
       "    .dataframe tbody tr th {\n",
       "        vertical-align: top;\n",
       "    }\n",
       "\n",
       "    .dataframe thead th {\n",
       "        text-align: right;\n",
       "    }\n",
       "</style>\n",
       "<table border=\"1\" class=\"dataframe\">\n",
       "  <thead>\n",
       "    <tr style=\"text-align: right;\">\n",
       "      <th></th>\n",
       "      <th>0</th>\n",
       "      <th>1</th>\n",
       "      <th>2</th>\n",
       "      <th>3</th>\n",
       "      <th>4</th>\n",
       "      <th>5</th>\n",
       "      <th>6</th>\n",
       "      <th>7</th>\n",
       "      <th>8</th>\n",
       "      <th>9</th>\n",
       "      <th>10</th>\n",
       "      <th>11</th>\n",
       "      <th>12</th>\n",
       "      <th>13</th>\n",
       "      <th>14</th>\n",
       "      <th>15</th>\n",
       "    </tr>\n",
       "  </thead>\n",
       "  <tbody>\n",
       "    <tr>\n",
       "      <th>0</th>\n",
       "      <td>0.92</td>\n",
       "      <td>0.01</td>\n",
       "      <td>0.00</td>\n",
       "      <td>0.01</td>\n",
       "      <td>0.01</td>\n",
       "      <td>0.03</td>\n",
       "      <td>0.00</td>\n",
       "      <td>0.00</td>\n",
       "      <td>0.01</td>\n",
       "      <td>0.01</td>\n",
       "      <td>0.00</td>\n",
       "      <td>0.00</td>\n",
       "      <td>0.00</td>\n",
       "      <td>0.00</td>\n",
       "      <td>0.00</td>\n",
       "      <td>0.00</td>\n",
       "    </tr>\n",
       "    <tr>\n",
       "      <th>1</th>\n",
       "      <td>0.00</td>\n",
       "      <td>0.87</td>\n",
       "      <td>0.02</td>\n",
       "      <td>0.06</td>\n",
       "      <td>0.02</td>\n",
       "      <td>0.00</td>\n",
       "      <td>0.00</td>\n",
       "      <td>0.03</td>\n",
       "      <td>0.00</td>\n",
       "      <td>0.00</td>\n",
       "      <td>0.00</td>\n",
       "      <td>0.00</td>\n",
       "      <td>0.00</td>\n",
       "      <td>0.00</td>\n",
       "      <td>0.00</td>\n",
       "      <td>0.00</td>\n",
       "    </tr>\n",
       "    <tr>\n",
       "      <th>2</th>\n",
       "      <td>0.01</td>\n",
       "      <td>0.10</td>\n",
       "      <td>0.82</td>\n",
       "      <td>0.01</td>\n",
       "      <td>0.02</td>\n",
       "      <td>0.00</td>\n",
       "      <td>0.01</td>\n",
       "      <td>0.02</td>\n",
       "      <td>0.00</td>\n",
       "      <td>0.01</td>\n",
       "      <td>0.00</td>\n",
       "      <td>0.00</td>\n",
       "      <td>0.00</td>\n",
       "      <td>0.00</td>\n",
       "      <td>0.01</td>\n",
       "      <td>0.00</td>\n",
       "    </tr>\n",
       "    <tr>\n",
       "      <th>3</th>\n",
       "      <td>0.04</td>\n",
       "      <td>0.07</td>\n",
       "      <td>0.01</td>\n",
       "      <td>0.67</td>\n",
       "      <td>0.01</td>\n",
       "      <td>0.00</td>\n",
       "      <td>0.00</td>\n",
       "      <td>0.02</td>\n",
       "      <td>0.01</td>\n",
       "      <td>0.06</td>\n",
       "      <td>0.00</td>\n",
       "      <td>0.08</td>\n",
       "      <td>0.00</td>\n",
       "      <td>0.00</td>\n",
       "      <td>0.01</td>\n",
       "      <td>0.00</td>\n",
       "    </tr>\n",
       "    <tr>\n",
       "      <th>4</th>\n",
       "      <td>0.01</td>\n",
       "      <td>0.02</td>\n",
       "      <td>0.01</td>\n",
       "      <td>0.02</td>\n",
       "      <td>0.91</td>\n",
       "      <td>0.00</td>\n",
       "      <td>0.01</td>\n",
       "      <td>0.00</td>\n",
       "      <td>0.00</td>\n",
       "      <td>0.00</td>\n",
       "      <td>0.00</td>\n",
       "      <td>0.00</td>\n",
       "      <td>0.01</td>\n",
       "      <td>0.00</td>\n",
       "      <td>0.00</td>\n",
       "      <td>0.00</td>\n",
       "    </tr>\n",
       "    <tr>\n",
       "      <th>5</th>\n",
       "      <td>0.03</td>\n",
       "      <td>0.00</td>\n",
       "      <td>0.00</td>\n",
       "      <td>0.03</td>\n",
       "      <td>0.00</td>\n",
       "      <td>0.52</td>\n",
       "      <td>0.00</td>\n",
       "      <td>0.00</td>\n",
       "      <td>0.02</td>\n",
       "      <td>0.33</td>\n",
       "      <td>0.02</td>\n",
       "      <td>0.05</td>\n",
       "      <td>0.00</td>\n",
       "      <td>0.00</td>\n",
       "      <td>0.01</td>\n",
       "      <td>0.00</td>\n",
       "    </tr>\n",
       "    <tr>\n",
       "      <th>6</th>\n",
       "      <td>0.01</td>\n",
       "      <td>0.01</td>\n",
       "      <td>0.01</td>\n",
       "      <td>0.00</td>\n",
       "      <td>0.05</td>\n",
       "      <td>0.00</td>\n",
       "      <td>0.91</td>\n",
       "      <td>0.00</td>\n",
       "      <td>0.00</td>\n",
       "      <td>0.00</td>\n",
       "      <td>0.00</td>\n",
       "      <td>0.00</td>\n",
       "      <td>0.00</td>\n",
       "      <td>0.00</td>\n",
       "      <td>0.00</td>\n",
       "      <td>0.00</td>\n",
       "    </tr>\n",
       "    <tr>\n",
       "      <th>7</th>\n",
       "      <td>0.00</td>\n",
       "      <td>0.06</td>\n",
       "      <td>0.01</td>\n",
       "      <td>0.02</td>\n",
       "      <td>0.00</td>\n",
       "      <td>0.00</td>\n",
       "      <td>0.00</td>\n",
       "      <td>0.90</td>\n",
       "      <td>0.00</td>\n",
       "      <td>0.00</td>\n",
       "      <td>0.00</td>\n",
       "      <td>0.00</td>\n",
       "      <td>0.00</td>\n",
       "      <td>0.00</td>\n",
       "      <td>0.00</td>\n",
       "      <td>0.00</td>\n",
       "    </tr>\n",
       "    <tr>\n",
       "      <th>8</th>\n",
       "      <td>0.03</td>\n",
       "      <td>0.00</td>\n",
       "      <td>0.00</td>\n",
       "      <td>0.05</td>\n",
       "      <td>0.00</td>\n",
       "      <td>0.01</td>\n",
       "      <td>0.00</td>\n",
       "      <td>0.00</td>\n",
       "      <td>0.69</td>\n",
       "      <td>0.07</td>\n",
       "      <td>0.14</td>\n",
       "      <td>0.01</td>\n",
       "      <td>0.00</td>\n",
       "      <td>0.00</td>\n",
       "      <td>0.00</td>\n",
       "      <td>0.00</td>\n",
       "    </tr>\n",
       "    <tr>\n",
       "      <th>9</th>\n",
       "      <td>0.00</td>\n",
       "      <td>0.00</td>\n",
       "      <td>0.01</td>\n",
       "      <td>0.03</td>\n",
       "      <td>0.00</td>\n",
       "      <td>0.02</td>\n",
       "      <td>0.00</td>\n",
       "      <td>0.00</td>\n",
       "      <td>0.02</td>\n",
       "      <td>0.83</td>\n",
       "      <td>0.07</td>\n",
       "      <td>0.01</td>\n",
       "      <td>0.00</td>\n",
       "      <td>0.00</td>\n",
       "      <td>0.01</td>\n",
       "      <td>0.00</td>\n",
       "    </tr>\n",
       "    <tr>\n",
       "      <th>10</th>\n",
       "      <td>0.01</td>\n",
       "      <td>0.00</td>\n",
       "      <td>0.00</td>\n",
       "      <td>0.01</td>\n",
       "      <td>0.00</td>\n",
       "      <td>0.01</td>\n",
       "      <td>0.00</td>\n",
       "      <td>0.00</td>\n",
       "      <td>0.03</td>\n",
       "      <td>0.20</td>\n",
       "      <td>0.74</td>\n",
       "      <td>0.00</td>\n",
       "      <td>0.00</td>\n",
       "      <td>0.00</td>\n",
       "      <td>0.00</td>\n",
       "      <td>0.00</td>\n",
       "    </tr>\n",
       "    <tr>\n",
       "      <th>11</th>\n",
       "      <td>0.00</td>\n",
       "      <td>0.00</td>\n",
       "      <td>0.00</td>\n",
       "      <td>0.30</td>\n",
       "      <td>0.00</td>\n",
       "      <td>0.02</td>\n",
       "      <td>0.00</td>\n",
       "      <td>0.00</td>\n",
       "      <td>0.01</td>\n",
       "      <td>0.03</td>\n",
       "      <td>0.00</td>\n",
       "      <td>0.63</td>\n",
       "      <td>0.00</td>\n",
       "      <td>0.00</td>\n",
       "      <td>0.00</td>\n",
       "      <td>0.00</td>\n",
       "    </tr>\n",
       "    <tr>\n",
       "      <th>12</th>\n",
       "      <td>0.00</td>\n",
       "      <td>0.02</td>\n",
       "      <td>0.01</td>\n",
       "      <td>0.01</td>\n",
       "      <td>0.05</td>\n",
       "      <td>0.00</td>\n",
       "      <td>0.00</td>\n",
       "      <td>0.00</td>\n",
       "      <td>0.00</td>\n",
       "      <td>0.00</td>\n",
       "      <td>0.00</td>\n",
       "      <td>0.00</td>\n",
       "      <td>0.90</td>\n",
       "      <td>0.00</td>\n",
       "      <td>0.01</td>\n",
       "      <td>0.00</td>\n",
       "    </tr>\n",
       "    <tr>\n",
       "      <th>13</th>\n",
       "      <td>0.00</td>\n",
       "      <td>0.01</td>\n",
       "      <td>0.01</td>\n",
       "      <td>0.02</td>\n",
       "      <td>0.00</td>\n",
       "      <td>0.00</td>\n",
       "      <td>0.00</td>\n",
       "      <td>0.00</td>\n",
       "      <td>0.00</td>\n",
       "      <td>0.00</td>\n",
       "      <td>0.00</td>\n",
       "      <td>0.00</td>\n",
       "      <td>0.00</td>\n",
       "      <td>0.95</td>\n",
       "      <td>0.01</td>\n",
       "      <td>0.00</td>\n",
       "    </tr>\n",
       "    <tr>\n",
       "      <th>14</th>\n",
       "      <td>0.00</td>\n",
       "      <td>0.12</td>\n",
       "      <td>0.01</td>\n",
       "      <td>0.10</td>\n",
       "      <td>0.05</td>\n",
       "      <td>0.01</td>\n",
       "      <td>0.00</td>\n",
       "      <td>0.00</td>\n",
       "      <td>0.00</td>\n",
       "      <td>0.02</td>\n",
       "      <td>0.00</td>\n",
       "      <td>0.00</td>\n",
       "      <td>0.02</td>\n",
       "      <td>0.01</td>\n",
       "      <td>0.66</td>\n",
       "      <td>0.00</td>\n",
       "    </tr>\n",
       "    <tr>\n",
       "      <th>15</th>\n",
       "      <td>0.06</td>\n",
       "      <td>0.00</td>\n",
       "      <td>0.17</td>\n",
       "      <td>0.07</td>\n",
       "      <td>0.11</td>\n",
       "      <td>0.00</td>\n",
       "      <td>0.00</td>\n",
       "      <td>0.14</td>\n",
       "      <td>0.00</td>\n",
       "      <td>0.00</td>\n",
       "      <td>0.00</td>\n",
       "      <td>0.00</td>\n",
       "      <td>0.00</td>\n",
       "      <td>0.00</td>\n",
       "      <td>0.00</td>\n",
       "      <td>0.46</td>\n",
       "    </tr>\n",
       "  </tbody>\n",
       "</table>\n",
       "</div>"
      ],
      "text/plain": [
       "      0     1     2     3     4     5     6     7     8     9     10    11  \\\n",
       "0   0.92  0.01  0.00  0.01  0.01  0.03  0.00  0.00  0.01  0.01  0.00  0.00   \n",
       "1   0.00  0.87  0.02  0.06  0.02  0.00  0.00  0.03  0.00  0.00  0.00  0.00   \n",
       "2   0.01  0.10  0.82  0.01  0.02  0.00  0.01  0.02  0.00  0.01  0.00  0.00   \n",
       "3   0.04  0.07  0.01  0.67  0.01  0.00  0.00  0.02  0.01  0.06  0.00  0.08   \n",
       "4   0.01  0.02  0.01  0.02  0.91  0.00  0.01  0.00  0.00  0.00  0.00  0.00   \n",
       "5   0.03  0.00  0.00  0.03  0.00  0.52  0.00  0.00  0.02  0.33  0.02  0.05   \n",
       "6   0.01  0.01  0.01  0.00  0.05  0.00  0.91  0.00  0.00  0.00  0.00  0.00   \n",
       "7   0.00  0.06  0.01  0.02  0.00  0.00  0.00  0.90  0.00  0.00  0.00  0.00   \n",
       "8   0.03  0.00  0.00  0.05  0.00  0.01  0.00  0.00  0.69  0.07  0.14  0.01   \n",
       "9   0.00  0.00  0.01  0.03  0.00  0.02  0.00  0.00  0.02  0.83  0.07  0.01   \n",
       "10  0.01  0.00  0.00  0.01  0.00  0.01  0.00  0.00  0.03  0.20  0.74  0.00   \n",
       "11  0.00  0.00  0.00  0.30  0.00  0.02  0.00  0.00  0.01  0.03  0.00  0.63   \n",
       "12  0.00  0.02  0.01  0.01  0.05  0.00  0.00  0.00  0.00  0.00  0.00  0.00   \n",
       "13  0.00  0.01  0.01  0.02  0.00  0.00  0.00  0.00  0.00  0.00  0.00  0.00   \n",
       "14  0.00  0.12  0.01  0.10  0.05  0.01  0.00  0.00  0.00  0.02  0.00  0.00   \n",
       "15  0.06  0.00  0.17  0.07  0.11  0.00  0.00  0.14  0.00  0.00  0.00  0.00   \n",
       "\n",
       "      12    13    14    15  \n",
       "0   0.00  0.00  0.00  0.00  \n",
       "1   0.00  0.00  0.00  0.00  \n",
       "2   0.00  0.00  0.01  0.00  \n",
       "3   0.00  0.00  0.01  0.00  \n",
       "4   0.01  0.00  0.00  0.00  \n",
       "5   0.00  0.00  0.01  0.00  \n",
       "6   0.00  0.00  0.00  0.00  \n",
       "7   0.00  0.00  0.00  0.00  \n",
       "8   0.00  0.00  0.00  0.00  \n",
       "9   0.00  0.00  0.01  0.00  \n",
       "10  0.00  0.00  0.00  0.00  \n",
       "11  0.00  0.00  0.00  0.00  \n",
       "12  0.90  0.00  0.01  0.00  \n",
       "13  0.00  0.95  0.01  0.00  \n",
       "14  0.02  0.01  0.66  0.00  \n",
       "15  0.00  0.00  0.00  0.46  "
      ]
     },
     "execution_count": 40,
     "metadata": {},
     "output_type": "execute_result"
    }
   ],
   "source": [
    "conf_mat = confusion_matrix(results_df['category_name'], results_df['pred_category_name'])\n",
    "pd.DataFrame(np.round(conf_mat/np.repeat(conf_mat.sum(axis=1), 16).reshape(16,16), 2))"
   ]
  },
  {
   "cell_type": "code",
   "execution_count": 44,
   "metadata": {},
   "outputs": [
    {
     "data": {
      "text/plain": [
       "<matplotlib.axes._subplots.AxesSubplot at 0x7fb360abf7b8>"
      ]
     },
     "execution_count": 44,
     "metadata": {},
     "output_type": "execute_result"
    },
    {
     "data": {
      "image/png": "[encoded data removed]",
      "text/plain": [
       "<Figure size 432x288 with 2 Axes>"
      ]
     },
     "metadata": {},
     "output_type": "display_data"
    }
   ],
   "source": [
    "sns.heatmap(conf_mat/np.repeat(conf_mat.sum(axis=1), 16).reshape(16,16))"
   ]
  },
  {
   "cell_type": "code",
   "execution_count": null,
   "metadata": {},
   "outputs": [],
   "source": []
  }
 ],
 "metadata": {
  "kernelspec": {
   "display_name": "Python 3",
   "language": "python",
   "name": "python3"
  },
  "language_info": {
   "codemirror_mode": {
    "name": "ipython",
    "version": 3
   },
   "file_extension": ".py",
   "mimetype": "text/x-python",
   "name": "python",
   "nbconvert_exporter": "python",
   "pygments_lexer": "ipython3",
   "version": "3.6.8"
  }
 },
 "nbformat": 4,
 "nbformat_minor": 2
}
