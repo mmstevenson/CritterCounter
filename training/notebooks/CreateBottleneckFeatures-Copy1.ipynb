{
 "cells": [
  {
   "cell_type": "code",
   "execution_count": 57,
   "metadata": {},
   "outputs": [],
   "source": [
    "import numpy as np\n",
    "from keras.preprocessing.image import ImageDataGenerator\n",
    "from keras.preprocessing import image\n",
    "from keras.models import Sequential\n",
    "from keras.layers import Dropout, Flatten, Dense\n",
    "from keras import applications\n",
    "import os\n",
    "from shutil import copyfile\n",
    "import time"
   ]
  },
  {
   "cell_type": "code",
   "execution_count": 44,
   "metadata": {},
   "outputs": [],
   "source": [
    "# dimensions of our images.\n",
    "img_width, img_height = 224, 224\n",
    "\n",
    "top_model_weights_path = 'bottleneck_baseline_model.h5'\n",
    "image_dir = '/data/calTech/test/unknown'\n",
    "bn_dir = '/data/calTech/bottlenecks'\n",
    "epochs = 50\n",
    "nb_samples = len(os.listdir(image_dir))\n",
    "batch_size = 16"
   ]
  },
  {
   "cell_type": "code",
   "execution_count": 22,
   "metadata": {},
   "outputs": [],
   "source": [
    "def save_bottleneck_features():\n",
    "    datagen = ImageDataGenerator(rescale=1. / 255)\n",
    "\n",
    "    # build the ResNet50 network\n",
    "    model = applications.ResNet50(include_top=False, weights='imagenet')\n",
    "\n",
    "    generator = datagen.flow_from_directory(\n",
    "        image_dir,\n",
    "        target_size=(img_width, img_height),\n",
    "        batch_size=batch_size,\n",
    "        class_mode=None,\n",
    "        shuffle=False)\n",
    "    \n",
    "    bottleneck_features = model.predict_generator(\n",
    "        generator, \n",
    "        nb_samples)\n",
    "    \n",
    "    np.save(open('/data/calTech/bottleneck_features_calTech_test.npy', 'wb'),\n",
    "            bottleneck_features)\n",
    "    \n",
    "    return bottleneck_features"
   ]
  },
  {
   "cell_type": "code",
   "execution_count": 77,
   "metadata": {},
   "outputs": [],
   "source": [
    "def save_bottleneck_features():\n",
    "    # build the ResNet50 network\n",
    "    model = applications.ResNet50(include_top=False, weights='imagenet')\n",
    "    \n",
    "    start = time.time()\n",
    "    \n",
    "    for i, file in enumerate(os.listdir(image_dir)):\n",
    "        \n",
    "        if (i + 1) % 100 == 0:\n",
    "            print(i + 1)\n",
    "            \n",
    "        image_path = os.path.join(image_dir, file)\n",
    "        bn_path = os.path.join(bn_dir, os.path.splitext(file)[0] + '.npy')\n",
    "    \n",
    "        img = image.load_img(image_path, target_size=(img_width, img_height))\n",
    "        x = image.img_to_array(img)\n",
    "        x = np.expand_dims(x, axis=0)\n",
    "        features = model.predict(x)\n",
    "    \n",
    "        np.save(open(bn_path, 'wb'), features)\n",
    "        \n",
    "    print((time.time() - start))"
   ]
  },
  {
   "cell_type": "code",
   "execution_count": 76,
   "metadata": {},
   "outputs": [
    {
     "name": "stdout",
     "output_type": "stream",
     "text": [
      "17.212547063827515\n"
     ]
    }
   ],
   "source": [
    "save_bottleneck_features()"
   ]
  },
  {
   "cell_type": "code",
   "execution_count": null,
   "metadata": {},
   "outputs": [],
   "source": []
  }
 ],
 "metadata": {
  "kernelspec": {
   "display_name": "Python 3",
   "language": "python",
   "name": "python3"
  },
  "language_info": {
   "codemirror_mode": {
    "name": "ipython",
    "version": 3
   },
   "file_extension": ".py",
   "mimetype": "text/x-python",
   "name": "python",
   "nbconvert_exporter": "python",
   "pygments_lexer": "ipython3",
   "version": "3.7.1"
  }
 },
 "nbformat": 4,
 "nbformat_minor": 2
}
