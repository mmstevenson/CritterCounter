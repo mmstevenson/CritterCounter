{
 "cells": [
  {
   "cell_type": "markdown",
   "metadata": {},
   "source": [
    "# Create a subset of NACTI training data"
   ]
  },
  {
   "cell_type": "markdown",
   "metadata": {},
   "source": [
    "## Import libraries and create helper functions"
   ]
  },
  {
   "cell_type": "code",
   "execution_count": 1,
   "metadata": {},
   "outputs": [],
   "source": [
    "import json\n",
    "import pandas as pd\n",
    "from shutil import copyfile\n",
    "import os\n",
    "import re\n",
    "import numpy as np\n",
    "from sklearn.model_selection import train_test_split\n",
    "import matplotlib.pyplot as plt"
   ]
  },
  {
   "cell_type": "code",
   "execution_count": 2,
   "metadata": {},
   "outputs": [],
   "source": [
    "# Use regex to extract approximate location naming conventions from file names\n",
    "def get_cam_location(file_id):\n",
    "    '''\n",
    "    This function uses a regex expressions to try and determine individual\n",
    "    camera locations based on the file name. Several assumptions are made\n",
    "    and it is not expected to be 100% accurate.\n",
    "    \n",
    "    Some cameras that may have biased results are flagged as 'ignore' and\n",
    "    filtered out at a later point in time\n",
    "    \n",
    "    args:\n",
    "      file_id - File name from Nacti dataset\n",
    "    returns:\n",
    "      camera_location \n",
    "    '''\n",
    "    \n",
    "    if re.search('Ivan',file_id):\n",
    "        return re.findall('(.+)_img\\d+.jpg', file_id.lower())[0]\n",
    "    elif re.search('WA-Site', file_id):\n",
    "        return re.findall('(.+)_\\d+\\.jpg', file_id.lower())[0]\n",
    "    elif re.search('SWTB',file_id):\n",
    "        return re.findall('(.+)_img\\d+.jpg', file_id.lower())[0]\n",
    "    elif re.search('^ACAM', file_id):\n",
    "        return re.findall('(^acam\\d+)_', file_id.lower())[0]\n",
    "    elif re.search('^CA\\-\\d{2}', file_id):\n",
    "        return re.findall('^ca\\-\\d{2}', file_id.lower())[0]\n",
    "    elif re.search('Challenge_Bait', file_id):\n",
    "        return 'ignore'\n",
    "    elif re.search('^FL\\-\\d{2}', file_id):\n",
    "        return re.findall('^fl\\-\\d{2}', file_id.lower())[0]\n",
    "    elif re.search('^Image', file_id):\n",
    "        return 'ignore'\n",
    "    elif re.search('^LandfillBaitStations', file_id):\n",
    "        return re.findall('(^landfillbaitstations\\d+_acam\\d+)_', file_id.lower())[0]\n",
    "    elif re.search('^MixedBaitStations', file_id):\n",
    "        return re.findall('(^mixedbaitstations\\d+_acam\\d+)_', file_id.lower())[0]\n",
    "    elif re.search('^TAG', file_id):\n",
    "        return re.findall('^tag\\-[a-z]{2}\\d{2}', file_id.lower())[0]\n",
    "    elif re.search('Kerr', file_id):\n",
    "        return 'ignore'\n",
    "    else:\n",
    "        return 'other'\n",
    "    \n",
    "# Tag photos as either empty or animal\n",
    "def empty_v_animal_label(label):\n",
    "    '''\n",
    "    When presented a label, either return empty if empty\n",
    "    or animal if a species name is listed\n",
    "    '''\n",
    "    if label != 'empty':\n",
    "        return 'animal'\n",
    "    else:\n",
    "        return 'empty'"
   ]
  },
  {
   "cell_type": "markdown",
   "metadata": {},
   "source": [
    "## Import the data"
   ]
  },
  {
   "cell_type": "code",
   "execution_count": 3,
   "metadata": {},
   "outputs": [],
   "source": [
    "nacti_json = '/data/nacti/nacti_metadata.json'\n",
    "\n",
    "with open(nacti_json) as f:\n",
    "    data = json.loads(f.read())"
   ]
  },
  {
   "cell_type": "markdown",
   "metadata": {},
   "source": [
    "Create mappings for category id to category name and image id to image filename"
   ]
  },
  {
   "cell_type": "code",
   "execution_count": 4,
   "metadata": {},
   "outputs": [],
   "source": [
    "category_map = {cat['id']:re.sub(' |-', '_', cat['common name']) for cat in data['categories']}"
   ]
  },
  {
   "cell_type": "markdown",
   "metadata": {},
   "source": [
    "Create mappings of each image to its relative path"
   ]
  },
  {
   "cell_type": "code",
   "execution_count": 5,
   "metadata": {},
   "outputs": [],
   "source": [
    "id_path_map = {img['id']:img['file_name'] for img in data['images']}"
   ]
  },
  {
   "cell_type": "markdown",
   "metadata": {},
   "source": [
    "Create a list of target species important to our analysis"
   ]
  },
  {
   "cell_type": "code",
   "execution_count": 6,
   "metadata": {},
   "outputs": [
    {
     "data": {
      "text/plain": [
       "18"
      ]
     },
     "execution_count": 6,
     "metadata": {},
     "output_type": "execute_result"
    }
   ],
   "source": [
    "target_species = [\n",
    "    'american_black_bear', \n",
    "    'bobcat', \n",
    "    'coyote', \n",
    "    'empty', \n",
    "    'vehicle', \n",
    "    'cougar', \n",
    "    'human',\n",
    "    'white_tailed_deer',\n",
    "    'mule_deer',\n",
    "    'red_deer',\n",
    "    'wolf',\n",
    "    'moose',\n",
    "    'gray_fox',\n",
    "    'elk',\n",
    "    'domestic_dog',\n",
    "    'wild_turkey',\n",
    "    'red_fox',\n",
    "    'domestic_cow'\n",
    "]\n",
    "\n",
    "len(target_species)"
   ]
  },
  {
   "cell_type": "markdown",
   "metadata": {},
   "source": [
    "## Create a dataframe of filepaths and labels data"
   ]
  },
  {
   "cell_type": "code",
   "execution_count": 7,
   "metadata": {},
   "outputs": [
    {
     "data": {
      "text/html": [
       "<div>\n",
       "<style scoped>\n",
       "    .dataframe tbody tr th:only-of-type {\n",
       "        vertical-align: middle;\n",
       "    }\n",
       "\n",
       "    .dataframe tbody tr th {\n",
       "        vertical-align: top;\n",
       "    }\n",
       "\n",
       "    .dataframe thead th {\n",
       "        text-align: right;\n",
       "    }\n",
       "</style>\n",
       "<table border=\"1\" class=\"dataframe\">\n",
       "  <thead>\n",
       "    <tr style=\"text-align: right;\">\n",
       "      <th></th>\n",
       "      <th>category_id</th>\n",
       "      <th>id</th>\n",
       "      <th>image_id</th>\n",
       "      <th>file_path</th>\n",
       "      <th>category_name</th>\n",
       "      <th>subfolder</th>\n",
       "      <th>cam_location</th>\n",
       "    </tr>\n",
       "  </thead>\n",
       "  <tbody>\n",
       "    <tr>\n",
       "      <th>0</th>\n",
       "      <td>10</td>\n",
       "      <td>b56989c2-d98a-11e8-969f-000d3a71ec1a</td>\n",
       "      <td>2010_Unit150_Ivan097_img0001.jpg</td>\n",
       "      <td>sub001/2010_Unit150_Ivan097_img0001.jpg</td>\n",
       "      <td>red_deer</td>\n",
       "      <td>sub001</td>\n",
       "      <td>2010_unit150_ivan097</td>\n",
       "    </tr>\n",
       "    <tr>\n",
       "      <th>1</th>\n",
       "      <td>10</td>\n",
       "      <td>b56989c3-d98a-11e8-969f-000d3a71ec1a</td>\n",
       "      <td>2010_Unit150_Ivan097_img0002.jpg</td>\n",
       "      <td>sub001/2010_Unit150_Ivan097_img0002.jpg</td>\n",
       "      <td>red_deer</td>\n",
       "      <td>sub001</td>\n",
       "      <td>2010_unit150_ivan097</td>\n",
       "    </tr>\n",
       "    <tr>\n",
       "      <th>2</th>\n",
       "      <td>10</td>\n",
       "      <td>b56989c4-d98a-11e8-969f-000d3a71ec1a</td>\n",
       "      <td>2010_Unit150_Ivan097_img0003.jpg</td>\n",
       "      <td>sub001/2010_Unit150_Ivan097_img0003.jpg</td>\n",
       "      <td>red_deer</td>\n",
       "      <td>sub001</td>\n",
       "      <td>2010_unit150_ivan097</td>\n",
       "    </tr>\n",
       "    <tr>\n",
       "      <th>3</th>\n",
       "      <td>10</td>\n",
       "      <td>b56989c5-d98a-11e8-969f-000d3a71ec1a</td>\n",
       "      <td>2010_Unit150_Ivan097_img0004.jpg</td>\n",
       "      <td>sub001/2010_Unit150_Ivan097_img0004.jpg</td>\n",
       "      <td>red_deer</td>\n",
       "      <td>sub001</td>\n",
       "      <td>2010_unit150_ivan097</td>\n",
       "    </tr>\n",
       "    <tr>\n",
       "      <th>4</th>\n",
       "      <td>10</td>\n",
       "      <td>b56989c6-d98a-11e8-969f-000d3a71ec1a</td>\n",
       "      <td>2010_Unit150_Ivan097_img0005.jpg</td>\n",
       "      <td>sub001/2010_Unit150_Ivan097_img0005.jpg</td>\n",
       "      <td>red_deer</td>\n",
       "      <td>sub001</td>\n",
       "      <td>2010_unit150_ivan097</td>\n",
       "    </tr>\n",
       "  </tbody>\n",
       "</table>\n",
       "</div>"
      ],
      "text/plain": [
       "   category_id                                    id  \\\n",
       "0           10  b56989c2-d98a-11e8-969f-000d3a71ec1a   \n",
       "1           10  b56989c3-d98a-11e8-969f-000d3a71ec1a   \n",
       "2           10  b56989c4-d98a-11e8-969f-000d3a71ec1a   \n",
       "3           10  b56989c5-d98a-11e8-969f-000d3a71ec1a   \n",
       "4           10  b56989c6-d98a-11e8-969f-000d3a71ec1a   \n",
       "\n",
       "                           image_id                                file_path  \\\n",
       "0  2010_Unit150_Ivan097_img0001.jpg  sub001/2010_Unit150_Ivan097_img0001.jpg   \n",
       "1  2010_Unit150_Ivan097_img0002.jpg  sub001/2010_Unit150_Ivan097_img0002.jpg   \n",
       "2  2010_Unit150_Ivan097_img0003.jpg  sub001/2010_Unit150_Ivan097_img0003.jpg   \n",
       "3  2010_Unit150_Ivan097_img0004.jpg  sub001/2010_Unit150_Ivan097_img0004.jpg   \n",
       "4  2010_Unit150_Ivan097_img0005.jpg  sub001/2010_Unit150_Ivan097_img0005.jpg   \n",
       "\n",
       "  category_name subfolder          cam_location  \n",
       "0      red_deer    sub001  2010_unit150_ivan097  \n",
       "1      red_deer    sub001  2010_unit150_ivan097  \n",
       "2      red_deer    sub001  2010_unit150_ivan097  \n",
       "3      red_deer    sub001  2010_unit150_ivan097  \n",
       "4      red_deer    sub001  2010_unit150_ivan097  "
      ]
     },
     "execution_count": 7,
     "metadata": {},
     "output_type": "execute_result"
    }
   ],
   "source": [
    "# Import annotations\n",
    "df = pd.DataFrame(data['annotations'])\n",
    "# Get the file path for each image id\n",
    "df['file_path'] = df['image_id'].apply(lambda x: id_path_map[x])\n",
    "# Get the category name for each category id\n",
    "df['category_name'] = df['category_id'].apply(lambda x: category_map[x])\n",
    "# Get the current subfolder that the file is located in\n",
    "df['subfolder'] = df['file_path'].apply(lambda x: re.findall('sub\\d{3}', x)[0])\n",
    "# Get the camera location for each image\n",
    "df['cam_location'] = df['image_id'].apply(get_cam_location)\n",
    "# Remove the ignore folders as they may bias our training\n",
    "df = df[df['cam_location'] != 'ignore']\n",
    "df.head()"
   ]
  },
  {
   "cell_type": "markdown",
   "metadata": {},
   "source": [
    "## Create train/test for a species classifier"
   ]
  },
  {
   "cell_type": "markdown",
   "metadata": {},
   "source": [
    "- Remove species that do not have enough images X\n",
    "- Remove species with too few locations X\n",
    "- Remove locations with only one speices X\n",
    "- Remove species tagged with 'unidentified' X\n",
    "- Cap the maximum number of species\n",
    "- Split train/validation sets based on location"
   ]
  },
  {
   "cell_type": "markdown",
   "metadata": {},
   "source": [
    "### Filter unidentified species and cameras with only one category"
   ]
  },
  {
   "cell_type": "code",
   "execution_count": 8,
   "metadata": {},
   "outputs": [],
   "source": [
    "# Make a copy of the dataframe\n",
    "species_df = df.copy()\n",
    "\n",
    "# Keep only the target species\n",
    "species_df = species_df[species_df['category_name'].isin(target_species)]\n",
    "\n",
    "# Remove unidentified species\n",
    "species_df = species_df[~species_df['category_name'].str.contains('unidentified')]\n",
    "\n",
    "# Remove all traps that only contain a single animal\n",
    "category_counts = species_df.groupby(['cam_location'])['category_id'].nunique().reset_index(drop=False)\n",
    "single_animal_trap_list = list(category_counts[category_counts['category_id']==1]['cam_location'].unique())\n",
    "species_df = species_df[~species_df['cam_location'].isin(single_animal_trap_list)]"
   ]
  },
  {
   "cell_type": "markdown",
   "metadata": {},
   "source": [
    "### Filter species by image and location count"
   ]
  },
  {
   "cell_type": "code",
   "execution_count": 9,
   "metadata": {},
   "outputs": [],
   "source": [
    "min_images = 400\n",
    "min_traps = 10\n",
    "\n",
    "# Group species and count number of images and number of cameras\n",
    "category_df = species_df.groupby('category_name').agg({'cam_location':[pd.Series.count, pd.Series.nunique]})\n",
    "category_df.columns = category_df.columns.droplevel()\n",
    "category_df = category_df.reset_index(drop=False)\n",
    "\n",
    "# Remove the species with too few images\n",
    "category_df = category_df[category_df['count'] > min_images]\n",
    "# Remove the species with too few trap locations\n",
    "category_df = category_df[category_df['nunique'] > min_traps]\n",
    "# Get the list of categories\n",
    "category_list = list(category_df['category_name'].unique())\n",
    "\n",
    "# Only keep the filtered species\n",
    "species_df = species_df[species_df['category_name'].isin(category_list)]"
   ]
  },
  {
   "cell_type": "markdown",
   "metadata": {},
   "source": [
    "Get only the species that are necessary for our analysis"
   ]
  },
  {
   "cell_type": "markdown",
   "metadata": {},
   "source": [
    "### Split into train and test"
   ]
  },
  {
   "cell_type": "code",
   "execution_count": 10,
   "metadata": {},
   "outputs": [],
   "source": [
    "# Split into training and test based on the camera location\n",
    "species_train_cams, species_test_cams = train_test_split(species_df['cam_location'].unique(), test_size=0.3, random_state=41)\n",
    "\n",
    "# Get the training samples from the specified cams\n",
    "species_train_df = species_df[species_df['cam_location'].isin(species_train_cams)] \n",
    "species_train_df = species_train_df.sample(frac=1, axis=0).reset_index(drop=True) #Shuffle\n",
    "\n",
    "# Get the test samples from the specified cams\n",
    "species_test_df = species_df[species_df['cam_location'].isin(species_test_cams)]\n",
    "species_test_df = species_test_df.sample(frac=1, axis=0).reset_index(drop=True) # Shuffle"
   ]
  },
  {
   "cell_type": "markdown",
   "metadata": {},
   "source": [
    "### Evaluate the results of the train-test split"
   ]
  },
  {
   "cell_type": "code",
   "execution_count": 11,
   "metadata": {},
   "outputs": [
    {
     "name": "stdout",
     "output_type": "stream",
     "text": [
      "Training set size: 1727847\n"
     ]
    },
    {
     "data": {
      "image/png": "[encoded data removed]",
      "text/plain": [
       "<Figure size 1008x360 with 1 Axes>"
      ]
     },
     "metadata": {
      "needs_background": "light"
     },
     "output_type": "display_data"
    },
    {
     "name": "stdout",
     "output_type": "stream",
     "text": [
      "\n",
      "Test set size: 882058\n"
     ]
    },
    {
     "data": {
      "image/png": "[encoded data removed]",
      "text/plain": [
       "<Figure size 1008x360 with 1 Axes>"
      ]
     },
     "metadata": {
      "needs_background": "light"
     },
     "output_type": "display_data"
    }
   ],
   "source": [
    "# Empty vs Non-Empty by split\n",
    "print('Training set size: {}'.format(len(species_train_df)))\n",
    "species_train_df['category_name'].value_counts().plot.bar(logy=False, figsize=(14,5), color='navy')\n",
    "plt.show()\n",
    "print()\n",
    "print('Test set size: {}'.format(len(species_test_df)))\n",
    "species_test_df['category_name'].value_counts().plot.bar(logy=False, figsize=(14,5), color='navy')\n",
    "plt.show()"
   ]
  },
  {
   "cell_type": "markdown",
   "metadata": {},
   "source": [
    "### Cap the total number of animals and save the output csv"
   ]
  },
  {
   "cell_type": "markdown",
   "metadata": {},
   "source": [
    "#### Train"
   ]
  },
  {
   "cell_type": "code",
   "execution_count": 12,
   "metadata": {},
   "outputs": [],
   "source": [
    "max_species_imgs_train = 10000\n",
    "list_ = []\n",
    "\n",
    "# Pare down the number of samples for each species in the training set\n",
    "for key, grp in species_train_df.groupby('category_name'):\n",
    "    if key == 'empty':\n",
    "        continue\n",
    "    else:\n",
    "        grp = grp.iloc[0:max_species_imgs_train]\n",
    "        list_.append(grp)\n",
    "        \n",
    "species_train_df = pd.concat(list_)"
   ]
  },
  {
   "cell_type": "code",
   "execution_count": 13,
   "metadata": {},
   "outputs": [
    {
     "name": "stdout",
     "output_type": "stream",
     "text": [
      "Rows: 115923\n"
     ]
    },
    {
     "data": {
      "text/html": [
       "<div>\n",
       "<style scoped>\n",
       "    .dataframe tbody tr th:only-of-type {\n",
       "        vertical-align: middle;\n",
       "    }\n",
       "\n",
       "    .dataframe tbody tr th {\n",
       "        vertical-align: top;\n",
       "    }\n",
       "\n",
       "    .dataframe thead th {\n",
       "        text-align: right;\n",
       "    }\n",
       "</style>\n",
       "<table border=\"1\" class=\"dataframe\">\n",
       "  <thead>\n",
       "    <tr style=\"text-align: right;\">\n",
       "      <th></th>\n",
       "      <th>cam_location</th>\n",
       "      <th>id</th>\n",
       "    </tr>\n",
       "    <tr>\n",
       "      <th>category_name</th>\n",
       "      <th></th>\n",
       "      <th></th>\n",
       "    </tr>\n",
       "  </thead>\n",
       "  <tbody>\n",
       "    <tr>\n",
       "      <th>american_black_bear</th>\n",
       "      <td>182</td>\n",
       "      <td>10000</td>\n",
       "    </tr>\n",
       "    <tr>\n",
       "      <th>bobcat</th>\n",
       "      <td>90</td>\n",
       "      <td>10000</td>\n",
       "    </tr>\n",
       "    <tr>\n",
       "      <th>cougar</th>\n",
       "      <td>66</td>\n",
       "      <td>9724</td>\n",
       "    </tr>\n",
       "    <tr>\n",
       "      <th>coyote</th>\n",
       "      <td>350</td>\n",
       "      <td>10000</td>\n",
       "    </tr>\n",
       "    <tr>\n",
       "      <th>domestic_cow</th>\n",
       "      <td>67</td>\n",
       "      <td>10000</td>\n",
       "    </tr>\n",
       "    <tr>\n",
       "      <th>domestic_dog</th>\n",
       "      <td>57</td>\n",
       "      <td>476</td>\n",
       "    </tr>\n",
       "    <tr>\n",
       "      <th>elk</th>\n",
       "      <td>33</td>\n",
       "      <td>10000</td>\n",
       "    </tr>\n",
       "    <tr>\n",
       "      <th>gray_fox</th>\n",
       "      <td>32</td>\n",
       "      <td>6337</td>\n",
       "    </tr>\n",
       "    <tr>\n",
       "      <th>moose</th>\n",
       "      <td>68</td>\n",
       "      <td>6098</td>\n",
       "    </tr>\n",
       "    <tr>\n",
       "      <th>mule_deer</th>\n",
       "      <td>289</td>\n",
       "      <td>10000</td>\n",
       "    </tr>\n",
       "    <tr>\n",
       "      <th>red_deer</th>\n",
       "      <td>301</td>\n",
       "      <td>10000</td>\n",
       "    </tr>\n",
       "    <tr>\n",
       "      <th>red_fox</th>\n",
       "      <td>145</td>\n",
       "      <td>1221</td>\n",
       "    </tr>\n",
       "    <tr>\n",
       "      <th>vehicle</th>\n",
       "      <td>56</td>\n",
       "      <td>10000</td>\n",
       "    </tr>\n",
       "    <tr>\n",
       "      <th>white_tailed_deer</th>\n",
       "      <td>105</td>\n",
       "      <td>8348</td>\n",
       "    </tr>\n",
       "    <tr>\n",
       "      <th>wild_turkey</th>\n",
       "      <td>63</td>\n",
       "      <td>3348</td>\n",
       "    </tr>\n",
       "    <tr>\n",
       "      <th>wolf</th>\n",
       "      <td>22</td>\n",
       "      <td>371</td>\n",
       "    </tr>\n",
       "  </tbody>\n",
       "</table>\n",
       "</div>"
      ],
      "text/plain": [
       "                     cam_location     id\n",
       "category_name                           \n",
       "american_black_bear           182  10000\n",
       "bobcat                         90  10000\n",
       "cougar                         66   9724\n",
       "coyote                        350  10000\n",
       "domestic_cow                   67  10000\n",
       "domestic_dog                   57    476\n",
       "elk                            33  10000\n",
       "gray_fox                       32   6337\n",
       "moose                          68   6098\n",
       "mule_deer                     289  10000\n",
       "red_deer                      301  10000\n",
       "red_fox                       145   1221\n",
       "vehicle                        56  10000\n",
       "white_tailed_deer             105   8348\n",
       "wild_turkey                    63   3348\n",
       "wolf                           22    371"
      ]
     },
     "metadata": {},
     "output_type": "display_data"
    },
    {
     "data": {
      "image/png": "[encoded data removed]",
      "text/plain": [
       "<Figure size 1008x360 with 1 Axes>"
      ]
     },
     "metadata": {
      "needs_background": "light"
     },
     "output_type": "display_data"
    }
   ],
   "source": [
    "print('Rows: {}'.format(len(species_train_df)))\n",
    "display(species_train_df.groupby('category_name').agg({'cam_location':pd.Series.nunique, 'id':pd.Series.nunique}))\n",
    "species_train_df['category_name'].value_counts().plot.bar(logy=False, figsize=(14,5), color='navy');"
   ]
  },
  {
   "cell_type": "code",
   "execution_count": 14,
   "metadata": {},
   "outputs": [],
   "source": [
    "species_train_df.to_csv(\"/data/dataframes/speciesTrain.csv\", index=False)"
   ]
  },
  {
   "cell_type": "markdown",
   "metadata": {},
   "source": [
    "#### Test"
   ]
  },
  {
   "cell_type": "code",
   "execution_count": 15,
   "metadata": {},
   "outputs": [],
   "source": [
    "max_species_imgs_test = 2500\n",
    "list_ = []\n",
    "\n",
    "# Pare down the number of samples for each species in the training set\n",
    "for key, grp in species_test_df.groupby('category_name'):\n",
    "    if key == 'empty':\n",
    "        continue\n",
    "    else:\n",
    "        grp = grp.iloc[0:max_species_imgs_test]\n",
    "        list_.append(grp)\n",
    "        \n",
    "species_test_df = pd.concat(list_)"
   ]
  },
  {
   "cell_type": "code",
   "execution_count": 16,
   "metadata": {},
   "outputs": [
    {
     "name": "stdout",
     "output_type": "stream",
     "text": [
      "Rows: 31833\n"
     ]
    },
    {
     "data": {
      "text/html": [
       "<div>\n",
       "<style scoped>\n",
       "    .dataframe tbody tr th:only-of-type {\n",
       "        vertical-align: middle;\n",
       "    }\n",
       "\n",
       "    .dataframe tbody tr th {\n",
       "        vertical-align: top;\n",
       "    }\n",
       "\n",
       "    .dataframe thead th {\n",
       "        text-align: right;\n",
       "    }\n",
       "</style>\n",
       "<table border=\"1\" class=\"dataframe\">\n",
       "  <thead>\n",
       "    <tr style=\"text-align: right;\">\n",
       "      <th></th>\n",
       "      <th>cam_location</th>\n",
       "      <th>id</th>\n",
       "    </tr>\n",
       "    <tr>\n",
       "      <th>category_name</th>\n",
       "      <th></th>\n",
       "      <th></th>\n",
       "    </tr>\n",
       "  </thead>\n",
       "  <tbody>\n",
       "    <tr>\n",
       "      <th>american_black_bear</th>\n",
       "      <td>49</td>\n",
       "      <td>2500</td>\n",
       "    </tr>\n",
       "    <tr>\n",
       "      <th>bobcat</th>\n",
       "      <td>42</td>\n",
       "      <td>2500</td>\n",
       "    </tr>\n",
       "    <tr>\n",
       "      <th>cougar</th>\n",
       "      <td>29</td>\n",
       "      <td>2500</td>\n",
       "    </tr>\n",
       "    <tr>\n",
       "      <th>coyote</th>\n",
       "      <td>139</td>\n",
       "      <td>2500</td>\n",
       "    </tr>\n",
       "    <tr>\n",
       "      <th>domestic_cow</th>\n",
       "      <td>35</td>\n",
       "      <td>2500</td>\n",
       "    </tr>\n",
       "    <tr>\n",
       "      <th>domestic_dog</th>\n",
       "      <td>22</td>\n",
       "      <td>229</td>\n",
       "    </tr>\n",
       "    <tr>\n",
       "      <th>elk</th>\n",
       "      <td>16</td>\n",
       "      <td>2500</td>\n",
       "    </tr>\n",
       "    <tr>\n",
       "      <th>gray_fox</th>\n",
       "      <td>15</td>\n",
       "      <td>2500</td>\n",
       "    </tr>\n",
       "    <tr>\n",
       "      <th>moose</th>\n",
       "      <td>30</td>\n",
       "      <td>2500</td>\n",
       "    </tr>\n",
       "    <tr>\n",
       "      <th>mule_deer</th>\n",
       "      <td>104</td>\n",
       "      <td>2500</td>\n",
       "    </tr>\n",
       "    <tr>\n",
       "      <th>red_deer</th>\n",
       "      <td>111</td>\n",
       "      <td>2500</td>\n",
       "    </tr>\n",
       "    <tr>\n",
       "      <th>red_fox</th>\n",
       "      <td>56</td>\n",
       "      <td>501</td>\n",
       "    </tr>\n",
       "    <tr>\n",
       "      <th>vehicle</th>\n",
       "      <td>23</td>\n",
       "      <td>2500</td>\n",
       "    </tr>\n",
       "    <tr>\n",
       "      <th>white_tailed_deer</th>\n",
       "      <td>54</td>\n",
       "      <td>2500</td>\n",
       "    </tr>\n",
       "    <tr>\n",
       "      <th>wild_turkey</th>\n",
       "      <td>37</td>\n",
       "      <td>1000</td>\n",
       "    </tr>\n",
       "    <tr>\n",
       "      <th>wolf</th>\n",
       "      <td>7</td>\n",
       "      <td>103</td>\n",
       "    </tr>\n",
       "  </tbody>\n",
       "</table>\n",
       "</div>"
      ],
      "text/plain": [
       "                     cam_location    id\n",
       "category_name                          \n",
       "american_black_bear            49  2500\n",
       "bobcat                         42  2500\n",
       "cougar                         29  2500\n",
       "coyote                        139  2500\n",
       "domestic_cow                   35  2500\n",
       "domestic_dog                   22   229\n",
       "elk                            16  2500\n",
       "gray_fox                       15  2500\n",
       "moose                          30  2500\n",
       "mule_deer                     104  2500\n",
       "red_deer                      111  2500\n",
       "red_fox                        56   501\n",
       "vehicle                        23  2500\n",
       "white_tailed_deer              54  2500\n",
       "wild_turkey                    37  1000\n",
       "wolf                            7   103"
      ]
     },
     "metadata": {},
     "output_type": "display_data"
    },
    {
     "data": {
      "image/png": "[encoded data removed]",
      "text/plain": [
       "<Figure size 1008x360 with 1 Axes>"
      ]
     },
     "metadata": {
      "needs_background": "light"
     },
     "output_type": "display_data"
    }
   ],
   "source": [
    "print('Rows: {}'.format(len(species_test_df)))\n",
    "display(species_test_df.groupby('category_name').agg({'cam_location':pd.Series.nunique, 'id':pd.Series.nunique}))\n",
    "species_test_df['category_name'].value_counts().plot.bar(logy=False, figsize=(14,5), color='navy');"
   ]
  },
  {
   "cell_type": "code",
   "execution_count": 17,
   "metadata": {},
   "outputs": [],
   "source": [
    "species_test_df.to_csv(\"/data/dataframes/speciesTest.csv\", index=False)"
   ]
  },
  {
   "cell_type": "markdown",
   "metadata": {},
   "source": [
    "# Create an inclusive split based on Empty vs Animal"
   ]
  },
  {
   "cell_type": "markdown",
   "metadata": {},
   "source": [
    "- Cap total photos for over-represented species\n",
    "- Do *not* filter out minimally represented species\n",
    "- Remove locations that are entirely empty\n",
    "- Allow for non-empty locations to avoid filtering out species\n",
    "- Split into train/val based on location"
   ]
  },
  {
   "cell_type": "code",
   "execution_count": 18,
   "metadata": {},
   "outputs": [
    {
     "data": {
      "text/html": [
       "<div>\n",
       "<style scoped>\n",
       "    .dataframe tbody tr th:only-of-type {\n",
       "        vertical-align: middle;\n",
       "    }\n",
       "\n",
       "    .dataframe tbody tr th {\n",
       "        vertical-align: top;\n",
       "    }\n",
       "\n",
       "    .dataframe thead th {\n",
       "        text-align: right;\n",
       "    }\n",
       "</style>\n",
       "<table border=\"1\" class=\"dataframe\">\n",
       "  <thead>\n",
       "    <tr style=\"text-align: right;\">\n",
       "      <th></th>\n",
       "      <th>category_id</th>\n",
       "      <th>id</th>\n",
       "      <th>image_id</th>\n",
       "      <th>file_path</th>\n",
       "      <th>category_name</th>\n",
       "      <th>subfolder</th>\n",
       "      <th>cam_location</th>\n",
       "      <th>target</th>\n",
       "      <th>abs_file_path</th>\n",
       "    </tr>\n",
       "  </thead>\n",
       "  <tbody>\n",
       "    <tr>\n",
       "      <th>0</th>\n",
       "      <td>10</td>\n",
       "      <td>b56989c2-d98a-11e8-969f-000d3a71ec1a</td>\n",
       "      <td>2010_Unit150_Ivan097_img0001.jpg</td>\n",
       "      <td>sub001/2010_Unit150_Ivan097_img0001.jpg</td>\n",
       "      <td>red_deer</td>\n",
       "      <td>sub001</td>\n",
       "      <td>2010_unit150_ivan097</td>\n",
       "      <td>animal</td>\n",
       "      <td>/data/nacti/sub001/2010_Unit150_Ivan097_img000...</td>\n",
       "    </tr>\n",
       "    <tr>\n",
       "      <th>1</th>\n",
       "      <td>10</td>\n",
       "      <td>b56989c3-d98a-11e8-969f-000d3a71ec1a</td>\n",
       "      <td>2010_Unit150_Ivan097_img0002.jpg</td>\n",
       "      <td>sub001/2010_Unit150_Ivan097_img0002.jpg</td>\n",
       "      <td>red_deer</td>\n",
       "      <td>sub001</td>\n",
       "      <td>2010_unit150_ivan097</td>\n",
       "      <td>animal</td>\n",
       "      <td>/data/nacti/sub001/2010_Unit150_Ivan097_img000...</td>\n",
       "    </tr>\n",
       "    <tr>\n",
       "      <th>2</th>\n",
       "      <td>10</td>\n",
       "      <td>b56989c4-d98a-11e8-969f-000d3a71ec1a</td>\n",
       "      <td>2010_Unit150_Ivan097_img0003.jpg</td>\n",
       "      <td>sub001/2010_Unit150_Ivan097_img0003.jpg</td>\n",
       "      <td>red_deer</td>\n",
       "      <td>sub001</td>\n",
       "      <td>2010_unit150_ivan097</td>\n",
       "      <td>animal</td>\n",
       "      <td>/data/nacti/sub001/2010_Unit150_Ivan097_img000...</td>\n",
       "    </tr>\n",
       "    <tr>\n",
       "      <th>3</th>\n",
       "      <td>10</td>\n",
       "      <td>b56989c5-d98a-11e8-969f-000d3a71ec1a</td>\n",
       "      <td>2010_Unit150_Ivan097_img0004.jpg</td>\n",
       "      <td>sub001/2010_Unit150_Ivan097_img0004.jpg</td>\n",
       "      <td>red_deer</td>\n",
       "      <td>sub001</td>\n",
       "      <td>2010_unit150_ivan097</td>\n",
       "      <td>animal</td>\n",
       "      <td>/data/nacti/sub001/2010_Unit150_Ivan097_img000...</td>\n",
       "    </tr>\n",
       "    <tr>\n",
       "      <th>4</th>\n",
       "      <td>10</td>\n",
       "      <td>b56989c6-d98a-11e8-969f-000d3a71ec1a</td>\n",
       "      <td>2010_Unit150_Ivan097_img0005.jpg</td>\n",
       "      <td>sub001/2010_Unit150_Ivan097_img0005.jpg</td>\n",
       "      <td>red_deer</td>\n",
       "      <td>sub001</td>\n",
       "      <td>2010_unit150_ivan097</td>\n",
       "      <td>animal</td>\n",
       "      <td>/data/nacti/sub001/2010_Unit150_Ivan097_img000...</td>\n",
       "    </tr>\n",
       "  </tbody>\n",
       "</table>\n",
       "</div>"
      ],
      "text/plain": [
       "   category_id                                    id  \\\n",
       "0           10  b56989c2-d98a-11e8-969f-000d3a71ec1a   \n",
       "1           10  b56989c3-d98a-11e8-969f-000d3a71ec1a   \n",
       "2           10  b56989c4-d98a-11e8-969f-000d3a71ec1a   \n",
       "3           10  b56989c5-d98a-11e8-969f-000d3a71ec1a   \n",
       "4           10  b56989c6-d98a-11e8-969f-000d3a71ec1a   \n",
       "\n",
       "                           image_id                                file_path  \\\n",
       "0  2010_Unit150_Ivan097_img0001.jpg  sub001/2010_Unit150_Ivan097_img0001.jpg   \n",
       "1  2010_Unit150_Ivan097_img0002.jpg  sub001/2010_Unit150_Ivan097_img0002.jpg   \n",
       "2  2010_Unit150_Ivan097_img0003.jpg  sub001/2010_Unit150_Ivan097_img0003.jpg   \n",
       "3  2010_Unit150_Ivan097_img0004.jpg  sub001/2010_Unit150_Ivan097_img0004.jpg   \n",
       "4  2010_Unit150_Ivan097_img0005.jpg  sub001/2010_Unit150_Ivan097_img0005.jpg   \n",
       "\n",
       "  category_name subfolder          cam_location  target  \\\n",
       "0      red_deer    sub001  2010_unit150_ivan097  animal   \n",
       "1      red_deer    sub001  2010_unit150_ivan097  animal   \n",
       "2      red_deer    sub001  2010_unit150_ivan097  animal   \n",
       "3      red_deer    sub001  2010_unit150_ivan097  animal   \n",
       "4      red_deer    sub001  2010_unit150_ivan097  animal   \n",
       "\n",
       "                                       abs_file_path  \n",
       "0  /data/nacti/sub001/2010_Unit150_Ivan097_img000...  \n",
       "1  /data/nacti/sub001/2010_Unit150_Ivan097_img000...  \n",
       "2  /data/nacti/sub001/2010_Unit150_Ivan097_img000...  \n",
       "3  /data/nacti/sub001/2010_Unit150_Ivan097_img000...  \n",
       "4  /data/nacti/sub001/2010_Unit150_Ivan097_img000...  "
      ]
     },
     "execution_count": 18,
     "metadata": {},
     "output_type": "execute_result"
    }
   ],
   "source": [
    "# Create a copy of the dataframe from before\n",
    "empty_df = df.copy()\n",
    "\n",
    "# Remove all traps that only contain a single animal\n",
    "category_counts = empty_df.groupby(['cam_location'])['category_id'].nunique().reset_index(drop=False)\n",
    "single_animal_trap_list = list(category_counts[category_counts['category_id']==1]['cam_location'].unique())\n",
    "empty_df = empty_df[~empty_df['cam_location'].isin(single_animal_trap_list)]\n",
    "\n",
    "# Remove all traps that do not contain any empty photos\n",
    "# empty_trap_list = list(df[df['category_name'] == 'empty']['cam_location'].unique())\n",
    "# empty_df = empty_df[empty_df['cam_location'].isin(empty_trap_list)]\n",
    "\n",
    "# Remove cameras that are entirely empty\n",
    "# only_empty_df = empty_df.groupby(['cam_location'])['category_id'].nunique().reset_index(drop=False)\n",
    "# only_empty_trap_list = list(only_empty_df[only_empty_df['category_id']==1]['cam_location'].unique())\n",
    "# empty_df = empty_df[~empty_df['cam_location'].isin(only_empty_trap_list)]\n",
    "\n",
    "# Create an empty vs animal class\n",
    "empty_df['target'] = empty_df['category_name'].apply(empty_v_animal_label)\n",
    "\n",
    "# Label the original file path\n",
    "empty_df['abs_file_path'] = empty_df['file_path'].apply(lambda path: os.path.join('/data/nacti', path))\n",
    "\n",
    "empty_df.head()"
   ]
  },
  {
   "cell_type": "code",
   "execution_count": 19,
   "metadata": {},
   "outputs": [
    {
     "data": {
      "text/plain": [
       "animal    3033265\n",
       "empty       96850\n",
       "Name: target, dtype: int64"
      ]
     },
     "execution_count": 19,
     "metadata": {},
     "output_type": "execute_result"
    }
   ],
   "source": [
    "empty_df['target'].value_counts()"
   ]
  },
  {
   "cell_type": "code",
   "execution_count": 20,
   "metadata": {},
   "outputs": [],
   "source": [
    "# Split into training and test based on the camera location\n",
    "empty_train_cams, empty_test_cams = train_test_split(empty_df['cam_location'].unique(), test_size=0.3, random_state=42)\n",
    "\n",
    "# Get the training samples from the specified cams\n",
    "empty_train_df = empty_df[empty_df['cam_location'].isin(empty_train_cams)] \n",
    "empty_train_df = empty_train_df.sample(frac=1, axis=0, random_state=42).reset_index(drop=True) #Shuffle\n",
    "\n",
    "# Get the test samples from the specified cams\n",
    "empty_test_df = empty_df[empty_df['cam_location'].isin(empty_test_cams)]\n",
    "empty_test_df = empty_test_df.sample(frac=1, axis=0, random_state=42).reset_index(drop=True) # Shuffle"
   ]
  },
  {
   "cell_type": "code",
   "execution_count": 21,
   "metadata": {},
   "outputs": [
    {
     "name": "stdout",
     "output_type": "stream",
     "text": [
      "Training set size: 2222296\n"
     ]
    },
    {
     "data": {
      "image/png": "[encoded data removed]",
      "text/plain": [
       "<Figure size 360x360 with 1 Axes>"
      ]
     },
     "metadata": {
      "needs_background": "light"
     },
     "output_type": "display_data"
    },
    {
     "data": {
      "image/png": "[encoded data removed]",
      "text/plain": [
       "<Figure size 1008x360 with 1 Axes>"
      ]
     },
     "metadata": {
      "needs_background": "light"
     },
     "output_type": "display_data"
    },
    {
     "name": "stdout",
     "output_type": "stream",
     "text": [
      "\n",
      "Test set size: 907819\n"
     ]
    },
    {
     "data": {
      "image/png": "[encoded data removed]",
      "text/plain": [
       "<Figure size 360x360 with 1 Axes>"
      ]
     },
     "metadata": {
      "needs_background": "light"
     },
     "output_type": "display_data"
    },
    {
     "data": {
      "image/png": "[encoded data removed]",
      "text/plain": [
       "<Figure size 1008x360 with 1 Axes>"
      ]
     },
     "metadata": {
      "needs_background": "light"
     },
     "output_type": "display_data"
    }
   ],
   "source": [
    "# Evaluate the results of the train-test split\n",
    "\n",
    "# Empty vs Non-Empty by split\n",
    "print('Training set size: {}'.format(len(empty_train_df)))\n",
    "empty_train_df['target'].value_counts().plot.bar(figsize=(5,5), color='navy')\n",
    "plt.show()\n",
    "empty_train_df['category_name'].value_counts().plot.bar(logy=False, figsize=(14,5), color='navy')\n",
    "plt.show()\n",
    "print()\n",
    "print('Test set size: {}'.format(len(empty_test_df)))\n",
    "empty_test_df['target'].value_counts().plot.bar(figsize=(5,5), color='navy')\n",
    "plt.show()\n",
    "empty_test_df['category_name'].value_counts().plot.bar(logy=False, figsize=(14,5), color='navy')\n",
    "plt.show()"
   ]
  },
  {
   "cell_type": "markdown",
   "metadata": {},
   "source": [
    "### Cap the total number of animals and save the output csv"
   ]
  },
  {
   "cell_type": "markdown",
   "metadata": {},
   "source": [
    "#### Train"
   ]
  },
  {
   "cell_type": "code",
   "execution_count": 22,
   "metadata": {},
   "outputs": [],
   "source": [
    "max_species_imgs_train = 2500\n",
    "list_ = []\n",
    "\n",
    "# Pare down the number of samples for each species in the training set\n",
    "for key, grp in empty_train_df.groupby('category_name'):\n",
    "    if key == 'empty':\n",
    "        list_.append(grp)\n",
    "    else:\n",
    "        grp = grp.iloc[0:max_species_imgs_train]\n",
    "        list_.append(grp)\n",
    "        \n",
    "large_empty_v_animal_train_df = pd.concat(list_)"
   ]
  },
  {
   "cell_type": "code",
   "execution_count": 23,
   "metadata": {},
   "outputs": [
    {
     "data": {
      "image/png": "[encoded data removed]",
      "text/plain": [
       "<Figure size 360x360 with 1 Axes>"
      ]
     },
     "metadata": {
      "needs_background": "light"
     },
     "output_type": "display_data"
    }
   ],
   "source": [
    "large_empty_v_animal_train_df['target'].value_counts().plot.bar(figsize=(5,5), color='navy')\n",
    "plt.show()"
   ]
  },
  {
   "cell_type": "code",
   "execution_count": 24,
   "metadata": {},
   "outputs": [],
   "source": [
    "large_empty_v_animal_train_df.to_csv(\"/data/dataframes/inclusiveEVATrain.csv\", index=False)"
   ]
  },
  {
   "cell_type": "markdown",
   "metadata": {},
   "source": [
    "#### Test"
   ]
  },
  {
   "cell_type": "code",
   "execution_count": 25,
   "metadata": {},
   "outputs": [],
   "source": [
    "max_species_imgs_test = 800\n",
    "list_ = []\n",
    "\n",
    "# Pare down the number of samples for each species in the training set\n",
    "for key, grp in empty_test_df.groupby('category_name'):\n",
    "    if key == 'empty':\n",
    "        list_.append(grp)\n",
    "    else:\n",
    "        grp = grp.iloc[0:max_species_imgs_test]\n",
    "        list_.append(grp)\n",
    "        \n",
    "large_empty_v_animal_test_df = pd.concat(list_)"
   ]
  },
  {
   "cell_type": "code",
   "execution_count": 26,
   "metadata": {},
   "outputs": [
    {
     "data": {
      "image/png": "[encoded data removed]",
      "text/plain": [
       "<Figure size 360x360 with 1 Axes>"
      ]
     },
     "metadata": {
      "needs_background": "light"
     },
     "output_type": "display_data"
    }
   ],
   "source": [
    "large_empty_v_animal_test_df['target'].value_counts().plot.bar(figsize=(5,5), color='navy')\n",
    "plt.show()"
   ]
  },
  {
   "cell_type": "code",
   "execution_count": 27,
   "metadata": {},
   "outputs": [],
   "source": [
    "large_empty_v_animal_test_df.to_csv(\"/data/dataframes/inclusiveEVATest.csv\", index=False)"
   ]
  },
  {
   "cell_type": "markdown",
   "metadata": {},
   "source": [
    "## Create an exclusive split based on Empty vs Animal"
   ]
  },
  {
   "cell_type": "markdown",
   "metadata": {},
   "source": [
    "- Cap total photos for over-represented species\n",
    "- Do *not* filter out minimally represented species\n",
    "- Remove locations that are entirely empty\n",
    "- Remove locations that are entirely non-empty as well to avoid bias\n",
    "- Split into train/val based on location"
   ]
  },
  {
   "cell_type": "markdown",
   "metadata": {},
   "source": [
    "### Filter out empty, non-empty and single category cams"
   ]
  },
  {
   "cell_type": "code",
   "execution_count": 28,
   "metadata": {},
   "outputs": [
    {
     "data": {
      "text/html": [
       "<div>\n",
       "<style scoped>\n",
       "    .dataframe tbody tr th:only-of-type {\n",
       "        vertical-align: middle;\n",
       "    }\n",
       "\n",
       "    .dataframe tbody tr th {\n",
       "        vertical-align: top;\n",
       "    }\n",
       "\n",
       "    .dataframe thead th {\n",
       "        text-align: right;\n",
       "    }\n",
       "</style>\n",
       "<table border=\"1\" class=\"dataframe\">\n",
       "  <thead>\n",
       "    <tr style=\"text-align: right;\">\n",
       "      <th></th>\n",
       "      <th>category_id</th>\n",
       "      <th>id</th>\n",
       "      <th>image_id</th>\n",
       "      <th>file_path</th>\n",
       "      <th>category_name</th>\n",
       "      <th>subfolder</th>\n",
       "      <th>cam_location</th>\n",
       "      <th>target</th>\n",
       "      <th>abs_file_path</th>\n",
       "    </tr>\n",
       "  </thead>\n",
       "  <tbody>\n",
       "    <tr>\n",
       "      <th>329793</th>\n",
       "      <td>47</td>\n",
       "      <td>b6918e65-d98a-11e8-969f-000d3a71ec1a</td>\n",
       "      <td>ACAM201_100RECNX_IMG_0001.JPG</td>\n",
       "      <td>sub033/ACAM201_100RECNX_IMG_0001.JPG</td>\n",
       "      <td>white_tailed_deer</td>\n",
       "      <td>sub033</td>\n",
       "      <td>acam201</td>\n",
       "      <td>animal</td>\n",
       "      <td>/data/nacti/sub033/ACAM201_100RECNX_IMG_0001.JPG</td>\n",
       "    </tr>\n",
       "    <tr>\n",
       "      <th>329794</th>\n",
       "      <td>47</td>\n",
       "      <td>b6918e66-d98a-11e8-969f-000d3a71ec1a</td>\n",
       "      <td>ACAM201_100RECNX_IMG_0002.JPG</td>\n",
       "      <td>sub033/ACAM201_100RECNX_IMG_0002.JPG</td>\n",
       "      <td>white_tailed_deer</td>\n",
       "      <td>sub033</td>\n",
       "      <td>acam201</td>\n",
       "      <td>animal</td>\n",
       "      <td>/data/nacti/sub033/ACAM201_100RECNX_IMG_0002.JPG</td>\n",
       "    </tr>\n",
       "    <tr>\n",
       "      <th>329795</th>\n",
       "      <td>47</td>\n",
       "      <td>b6918e67-d98a-11e8-969f-000d3a71ec1a</td>\n",
       "      <td>ACAM201_100RECNX_IMG_0003.JPG</td>\n",
       "      <td>sub033/ACAM201_100RECNX_IMG_0003.JPG</td>\n",
       "      <td>white_tailed_deer</td>\n",
       "      <td>sub033</td>\n",
       "      <td>acam201</td>\n",
       "      <td>animal</td>\n",
       "      <td>/data/nacti/sub033/ACAM201_100RECNX_IMG_0003.JPG</td>\n",
       "    </tr>\n",
       "    <tr>\n",
       "      <th>329796</th>\n",
       "      <td>16</td>\n",
       "      <td>b6918e68-d98a-11e8-969f-000d3a71ec1a</td>\n",
       "      <td>ACAM201_100RECNX_IMG_0004.JPG</td>\n",
       "      <td>sub033/ACAM201_100RECNX_IMG_0004.JPG</td>\n",
       "      <td>empty</td>\n",
       "      <td>sub033</td>\n",
       "      <td>acam201</td>\n",
       "      <td>empty</td>\n",
       "      <td>/data/nacti/sub033/ACAM201_100RECNX_IMG_0004.JPG</td>\n",
       "    </tr>\n",
       "    <tr>\n",
       "      <th>329797</th>\n",
       "      <td>16</td>\n",
       "      <td>b6918e69-d98a-11e8-969f-000d3a71ec1a</td>\n",
       "      <td>ACAM201_100RECNX_IMG_0005.JPG</td>\n",
       "      <td>sub033/ACAM201_100RECNX_IMG_0005.JPG</td>\n",
       "      <td>empty</td>\n",
       "      <td>sub033</td>\n",
       "      <td>acam201</td>\n",
       "      <td>empty</td>\n",
       "      <td>/data/nacti/sub033/ACAM201_100RECNX_IMG_0005.JPG</td>\n",
       "    </tr>\n",
       "  </tbody>\n",
       "</table>\n",
       "</div>"
      ],
      "text/plain": [
       "        category_id                                    id  \\\n",
       "329793           47  b6918e65-d98a-11e8-969f-000d3a71ec1a   \n",
       "329794           47  b6918e66-d98a-11e8-969f-000d3a71ec1a   \n",
       "329795           47  b6918e67-d98a-11e8-969f-000d3a71ec1a   \n",
       "329796           16  b6918e68-d98a-11e8-969f-000d3a71ec1a   \n",
       "329797           16  b6918e69-d98a-11e8-969f-000d3a71ec1a   \n",
       "\n",
       "                             image_id                             file_path  \\\n",
       "329793  ACAM201_100RECNX_IMG_0001.JPG  sub033/ACAM201_100RECNX_IMG_0001.JPG   \n",
       "329794  ACAM201_100RECNX_IMG_0002.JPG  sub033/ACAM201_100RECNX_IMG_0002.JPG   \n",
       "329795  ACAM201_100RECNX_IMG_0003.JPG  sub033/ACAM201_100RECNX_IMG_0003.JPG   \n",
       "329796  ACAM201_100RECNX_IMG_0004.JPG  sub033/ACAM201_100RECNX_IMG_0004.JPG   \n",
       "329797  ACAM201_100RECNX_IMG_0005.JPG  sub033/ACAM201_100RECNX_IMG_0005.JPG   \n",
       "\n",
       "            category_name subfolder cam_location  target  \\\n",
       "329793  white_tailed_deer    sub033      acam201  animal   \n",
       "329794  white_tailed_deer    sub033      acam201  animal   \n",
       "329795  white_tailed_deer    sub033      acam201  animal   \n",
       "329796              empty    sub033      acam201   empty   \n",
       "329797              empty    sub033      acam201   empty   \n",
       "\n",
       "                                           abs_file_path  \n",
       "329793  /data/nacti/sub033/ACAM201_100RECNX_IMG_0001.JPG  \n",
       "329794  /data/nacti/sub033/ACAM201_100RECNX_IMG_0002.JPG  \n",
       "329795  /data/nacti/sub033/ACAM201_100RECNX_IMG_0003.JPG  \n",
       "329796  /data/nacti/sub033/ACAM201_100RECNX_IMG_0004.JPG  \n",
       "329797  /data/nacti/sub033/ACAM201_100RECNX_IMG_0005.JPG  "
      ]
     },
     "execution_count": 28,
     "metadata": {},
     "output_type": "execute_result"
    }
   ],
   "source": [
    "# Create a copy of the dataframe from before\n",
    "empty_df = df.copy()\n",
    "\n",
    "# Remove all traps that only contain a single animal\n",
    "category_counts = empty_df.groupby(['cam_location'])['category_id'].nunique().reset_index(drop=False)\n",
    "single_animal_trap_list = list(category_counts[category_counts['category_id']==1]['cam_location'].unique())\n",
    "empty_df = empty_df[~empty_df['cam_location'].isin(single_animal_trap_list)]\n",
    "\n",
    "# Remove all traps that do not contain any empty photos\n",
    "empty_trap_list = list(df[df['category_name'] == 'empty']['cam_location'].unique())\n",
    "empty_df = empty_df[empty_df['cam_location'].isin(empty_trap_list)]\n",
    "\n",
    "# Create an empty vs animal class\n",
    "empty_df['target'] = empty_df['category_name'].apply(empty_v_animal_label)\n",
    "\n",
    "# Label the original file path\n",
    "empty_df['abs_file_path'] = empty_df['file_path'].apply(lambda path: os.path.join('/data/nacti', path))\n",
    "\n",
    "empty_df.head()"
   ]
  },
  {
   "cell_type": "code",
   "execution_count": 29,
   "metadata": {},
   "outputs": [
    {
     "data": {
      "text/plain": [
       "animal    121135\n",
       "empty      96850\n",
       "Name: target, dtype: int64"
      ]
     },
     "execution_count": 29,
     "metadata": {},
     "output_type": "execute_result"
    }
   ],
   "source": [
    "empty_df['target'].value_counts()"
   ]
  },
  {
   "cell_type": "markdown",
   "metadata": {},
   "source": [
    "### Split and shuffle the data by camera location"
   ]
  },
  {
   "cell_type": "code",
   "execution_count": 30,
   "metadata": {},
   "outputs": [],
   "source": [
    "# Split into training and test based on the camera location\n",
    "empty_train_cams, empty_test_cams = train_test_split(empty_df['cam_location'].unique(), test_size=0.3, random_state=42)\n",
    "\n",
    "# Get the training samples from the specified cams\n",
    "empty_train_df = empty_df[empty_df['cam_location'].isin(empty_train_cams)] \n",
    "empty_train_df = empty_train_df.sample(frac=1, axis=0, random_state=42).reset_index(drop=True) #Shuffle\n",
    "\n",
    "# Get the test samples from the specified cams\n",
    "empty_test_df = empty_df[empty_df['cam_location'].isin(empty_test_cams)]\n",
    "empty_test_df = empty_test_df.sample(frac=1, axis=0, random_state=42).reset_index(drop=True) # Shuffle"
   ]
  },
  {
   "cell_type": "markdown",
   "metadata": {},
   "source": [
    "### Evaluate the results of the train-test split"
   ]
  },
  {
   "cell_type": "code",
   "execution_count": 31,
   "metadata": {},
   "outputs": [
    {
     "name": "stdout",
     "output_type": "stream",
     "text": [
      "Training set size: 169821\n"
     ]
    },
    {
     "data": {
      "image/png": "[encoded data removed]",
      "text/plain": [
       "<Figure size 360x360 with 1 Axes>"
      ]
     },
     "metadata": {
      "needs_background": "light"
     },
     "output_type": "display_data"
    },
    {
     "data": {
      "image/png": "[encoded data removed]",
      "text/plain": [
       "<Figure size 1008x360 with 1 Axes>"
      ]
     },
     "metadata": {
      "needs_background": "light"
     },
     "output_type": "display_data"
    },
    {
     "name": "stdout",
     "output_type": "stream",
     "text": [
      "\n",
      "Test set size: 48164\n"
     ]
    },
    {
     "data": {
      "image/png": "[encoded data removed]",
      "text/plain": [
       "<Figure size 360x360 with 1 Axes>"
      ]
     },
     "metadata": {
      "needs_background": "light"
     },
     "output_type": "display_data"
    },
    {
     "data": {
      "image/png": "[encoded data removed]",
      "text/plain": [
       "<Figure size 1008x360 with 1 Axes>"
      ]
     },
     "metadata": {
      "needs_background": "light"
     },
     "output_type": "display_data"
    }
   ],
   "source": [
    "# Empty vs Non-Empty by split\n",
    "print('Training set size: {}'.format(len(empty_train_df)))\n",
    "empty_train_df['target'].value_counts().plot.bar(figsize=(5,5), color='navy')\n",
    "plt.show()\n",
    "empty_train_df['category_name'].value_counts().plot.bar(logy=False, figsize=(14,5), color='navy')\n",
    "plt.show()\n",
    "print()\n",
    "print('Test set size: {}'.format(len(empty_test_df)))\n",
    "empty_test_df['target'].value_counts().plot.bar(figsize=(5,5), color='navy')\n",
    "plt.show()\n",
    "empty_test_df['category_name'].value_counts().plot.bar(logy=False, figsize=(14,5), color='navy')\n",
    "plt.show()"
   ]
  },
  {
   "cell_type": "markdown",
   "metadata": {},
   "source": [
    "### Cap the total number of animals and save the output csv"
   ]
  },
  {
   "cell_type": "markdown",
   "metadata": {},
   "source": [
    "#### Train"
   ]
  },
  {
   "cell_type": "markdown",
   "metadata": {},
   "source": [
    "This is not necessary as the empty/animal classes are reasonably well balanced on their own"
   ]
  },
  {
   "cell_type": "code",
   "execution_count": 32,
   "metadata": {},
   "outputs": [],
   "source": [
    "# max_species_imgs_train = 2500\n",
    "# list_ = []\n",
    "\n",
    "# # Pare down the number of samples for each species in the training set\n",
    "# for key, grp in empty_train_df.groupby('category_name'):\n",
    "#     if key == 'empty':\n",
    "#         list_.append(grp)\n",
    "#     else:\n",
    "#         grp = grp.iloc[0:max_species_imgs_train]\n",
    "#         list_.append(grp)\n",
    "        \n",
    "# small_empty_v_animal_train_df = pd.concat(list_)"
   ]
  },
  {
   "cell_type": "code",
   "execution_count": 33,
   "metadata": {},
   "outputs": [
    {
     "data": {
      "image/png": "[encoded data removed]",
      "text/plain": [
       "<Figure size 360x360 with 1 Axes>"
      ]
     },
     "metadata": {
      "needs_background": "light"
     },
     "output_type": "display_data"
    }
   ],
   "source": [
    "empty_train_df['target'].value_counts().plot.bar(figsize=(5,5), color='navy')\n",
    "plt.show()"
   ]
  },
  {
   "cell_type": "code",
   "execution_count": 34,
   "metadata": {},
   "outputs": [],
   "source": [
    "empty_train_df.to_csv(\"/data/dataframes/exclusiveEVATrain.csv\", index=False)"
   ]
  },
  {
   "cell_type": "markdown",
   "metadata": {},
   "source": [
    "#### Test"
   ]
  },
  {
   "cell_type": "markdown",
   "metadata": {},
   "source": [
    "This is not necessary as the empty/animal classes are reasonably well balanced on their own"
   ]
  },
  {
   "cell_type": "code",
   "execution_count": 35,
   "metadata": {},
   "outputs": [],
   "source": [
    "# max_species_imgs_test = 800\n",
    "# list_ = []\n",
    "\n",
    "# # Pare down the number of samples for each species in the training set\n",
    "# for key, grp in empty_test_df.groupby('category_name'):\n",
    "#     if key == 'empty':\n",
    "#         list_.append(grp)\n",
    "#     else:\n",
    "#         grp = grp.iloc[0:max_species_imgs_test]\n",
    "#         list_.append(grp)\n",
    "        \n",
    "# large_empty_v_animal_test_df = pd.concat(list_)"
   ]
  },
  {
   "cell_type": "code",
   "execution_count": 36,
   "metadata": {},
   "outputs": [
    {
     "data": {
      "image/png": "[encoded data removed]",
      "text/plain": [
       "<Figure size 360x360 with 1 Axes>"
      ]
     },
     "metadata": {
      "needs_background": "light"
     },
     "output_type": "display_data"
    }
   ],
   "source": [
    "empty_test_df['target'].value_counts().plot.bar(figsize=(5,5), color='navy')\n",
    "plt.show()"
   ]
  },
  {
   "cell_type": "code",
   "execution_count": 37,
   "metadata": {},
   "outputs": [],
   "source": [
    "empty_test_df.to_csv(\"/data/dataframes/exclusiveEVATest.csv\", index=False)"
   ]
  },
  {
   "cell_type": "code",
   "execution_count": null,
   "metadata": {},
   "outputs": [],
   "source": []
  }
 ],
 "metadata": {
  "kernelspec": {
   "display_name": "Python 3",
   "language": "python",
   "name": "python3"
  },
  "language_info": {
   "codemirror_mode": {
    "name": "ipython",
    "version": 3
   },
   "file_extension": ".py",
   "mimetype": "text/x-python",
   "name": "python",
   "nbconvert_exporter": "python",
   "pygments_lexer": "ipython3",
   "version": "3.6.5"
  }
 },
 "nbformat": 4,
 "nbformat_minor": 2
}
