{
 "cells": [
  {
   "cell_type": "markdown",
   "metadata": {},
   "source": [
    "# Training an Image Classification model for NACTI"
   ]
  },
  {
   "cell_type": "markdown",
   "metadata": {},
   "source": [
    "Train a model on the exclusive empty vs animal dataframes"
   ]
  },
  {
   "cell_type": "markdown",
   "metadata": {},
   "source": [
    "### Set up the environment"
   ]
  },
  {
   "cell_type": "code",
   "execution_count": 1,
   "metadata": {},
   "outputs": [
    {
     "name": "stderr",
     "output_type": "stream",
     "text": [
      "Using TensorFlow backend.\n"
     ]
    }
   ],
   "source": [
    "from keras import applications\n",
    "from keras.preprocessing.image import ImageDataGenerator\n",
    "from keras import optimizers\n",
    "from keras.models import Sequential\n",
    "from keras.layers import Dropout, Flatten, Dense\n",
    "from keras.utils.training_utils import multi_gpu_model\n",
    "from keras.callbacks import ModelCheckpoint, TensorBoard\n",
    "\n",
    "from collections import Counter\n",
    "\n",
    "import pandas as pd\n",
    "\n",
    "import os\n",
    "# os.environ[\"CUDA_DEVICE_ORDER\"]=\"PCI_BUS_ID\"   # see issue #152\n",
    "# os.environ[\"CUDA_VISIBLE_DEVICES\"]=\"0\""
   ]
  },
  {
   "cell_type": "code",
   "execution_count": 2,
   "metadata": {},
   "outputs": [],
   "source": [
    "# path to the model weights files.\n",
    "# weights_path = '../keras/examples/vgg16_weights.h5'\n",
    "# top_model_weights_path = 'fc_model.h5'\n",
    "# dimensions of our images.\n",
    "img_width, img_height = 224, 224\n",
    "\n",
    "train_dataframe_path = '/data/dataframes/exclusiveEVATrain.csv'\n",
    "validation_data_dir = '/data/dataframes/exclusiveEVATest.csv'\n",
    "checkpoint_dir = '/data/ResNet50/ResNet50_20190403_exclusiveEVA_weights_2.h5'\n",
    "tensorboard_dir = '/data/ResNet50/exclusiveEva_2/logs'\n",
    "nb_train_samples = 50000\n",
    "nb_validation_samples = 10000\n",
    "epochs = 25\n",
    "batch_size = 48\n",
    "# gpu_count = 2"
   ]
  },
  {
   "cell_type": "markdown",
   "metadata": {},
   "source": [
    "### Import the dataframes"
   ]
  },
  {
   "cell_type": "code",
   "execution_count": 3,
   "metadata": {},
   "outputs": [
    {
     "data": {
      "text/plain": [
       "2"
      ]
     },
     "execution_count": 3,
     "metadata": {},
     "output_type": "execute_result"
    }
   ],
   "source": [
    "# Import the training and validation dataframes\n",
    "train_df = pd.read_csv(train_dataframe_path)\n",
    "val_df = pd.read_csv(validation_data_dir)\n",
    "\n",
    "# Check to ensure that the camera trap locations are disjoint\n",
    "assert len(train_df[train_df['cam_location'].isin(val_df['cam_location'].unique())]) == 0, \"Train and validation are not disjoint\"\n",
    "\n",
    "# Get the number of classes\n",
    "min(train_df['target'].nunique(), val_df['target'].nunique())"
   ]
  },
  {
   "cell_type": "markdown",
   "metadata": {},
   "source": [
    "### Build the model"
   ]
  },
  {
   "cell_type": "code",
   "execution_count": 4,
   "metadata": {},
   "outputs": [
    {
     "name": "stdout",
     "output_type": "stream",
     "text": [
      "WARNING:tensorflow:From /home/ubuntu/anaconda3/envs/tensorflow_p36/lib/python3.6/site-packages/tensorflow/python/framework/op_def_library.py:263: colocate_with (from tensorflow.python.framework.ops) is deprecated and will be removed in a future version.\n",
      "Instructions for updating:\n",
      "Colocations handled automatically by placer.\n"
     ]
    },
    {
     "name": "stderr",
     "output_type": "stream",
     "text": [
      "/home/ubuntu/anaconda3/envs/tensorflow_p36/lib/python3.6/site-packages/keras_applications/resnet50.py:265: UserWarning: The output shape of `ResNet50(include_top=False)` has been changed since Keras 2.2.0.\n",
      "  warnings.warn('The output shape of `ResNet50(include_top=False)` '\n"
     ]
    },
    {
     "name": "stdout",
     "output_type": "stream",
     "text": [
      "Model loaded.\n",
      "WARNING:tensorflow:From /home/ubuntu/anaconda3/envs/tensorflow_p36/lib/python3.6/site-packages/keras/backend/tensorflow_backend.py:3445: calling dropout (from tensorflow.python.ops.nn_ops) with keep_prob is deprecated and will be removed in a future version.\n",
      "Instructions for updating:\n",
      "Please use `rate` instead of `keep_prob`. Rate should be set to `rate = 1 - keep_prob`.\n"
     ]
    }
   ],
   "source": [
    "# build the MobileNetV2 network\n",
    "ResNet50 = applications.ResNet50(weights='imagenet', include_top=False, input_shape=(img_width, img_height, 3))\n",
    "print('Model loaded.')\n",
    "\n",
    "# build a classifier model to put on top of the convolutional model\n",
    "model = Sequential()\n",
    "model.add(ResNet50)\n",
    "model.add(Flatten(input_shape=model.output_shape[1:]))\n",
    "model.add(Dense(196, activation='relu'))\n",
    "model.add(Dropout(0.5))\n",
    "model.add(Dense(2, activation='softmax'))\n",
    "\n",
    "# Make it a multi-gpu model if available\n",
    "# model = multi_gpu_model(model, gpus=gpu_count)\n",
    "\n",
    "# compile the model with a SGD/momentum optimizer\n",
    "# and a very slow learning rate.\n",
    "model.compile(loss='categorical_crossentropy',\n",
    "              optimizer=optimizers.SGD(lr=1e-4, momentum=0.9),\n",
    "              metrics=['accuracy'])\n",
    "\n",
    "checkpointer = ModelCheckpoint(filepath=checkpoint_dir, verbose=1, save_best_only=True)\n",
    "tboard = TensorBoard(tensorboard_dir)"
   ]
  },
  {
   "cell_type": "markdown",
   "metadata": {},
   "source": [
    "### Create Data Generators"
   ]
  },
  {
   "cell_type": "code",
   "execution_count": 5,
   "metadata": {},
   "outputs": [
    {
     "name": "stdout",
     "output_type": "stream",
     "text": [
      "Found 169821 images belonging to 2 classes.\n",
      "Found 48164 images belonging to 2 classes.\n"
     ]
    }
   ],
   "source": [
    "# prepare data augmentation configuration\n",
    "train_datagen = ImageDataGenerator(\n",
    "    rotation_range=40,\n",
    "    width_shift_range=0.2,\n",
    "    height_shift_range=0.2,\n",
    "    rescale=1./255,\n",
    "    shear_range=0.2,\n",
    "    zoom_range=0.2,\n",
    "    horizontal_flip=True,\n",
    "    fill_mode='nearest')\n",
    "\n",
    "validation_datagen = ImageDataGenerator(rescale=1. / 255)\n",
    "\n",
    "train_generator = train_datagen.flow_from_dataframe(\n",
    "    train_df, \n",
    "    x_col='abs_file_path', \n",
    "    y_col ='target', \n",
    "    target_size=(img_width, img_height), \n",
    "    batch_size=batch_size, \n",
    "    shuffle=True,\n",
    "    class_mode='categorical')\n",
    "\n",
    "validation_generator = validation_datagen.flow_from_dataframe(\n",
    "    val_df, \n",
    "    x_col='abs_file_path', \n",
    "    y_col ='target', \n",
    "    target_size=(img_width, img_height), \n",
    "    batch_size=batch_size, \n",
    "    shuffle=True,\n",
    "    class_mode='categorical')\n",
    "\n",
    "counter = Counter(train_generator.classes)                          \n",
    "max_val = float(max(counter.values()))       \n",
    "class_weights = {class_id : max_val/num_images for class_id, num_images in counter.items()}  "
   ]
  },
  {
   "cell_type": "markdown",
   "metadata": {},
   "source": [
    "Define the weights"
   ]
  },
  {
   "cell_type": "code",
   "execution_count": 6,
   "metadata": {},
   "outputs": [],
   "source": [
    "if max([v for k,v in class_weights.items()]) < 2:\n",
    "    class_weights = {0:1, 1:1}"
   ]
  },
  {
   "cell_type": "markdown",
   "metadata": {},
   "source": [
    "### Train the model"
   ]
  },
  {
   "cell_type": "code",
   "execution_count": 7,
   "metadata": {},
   "outputs": [
    {
     "name": "stdout",
     "output_type": "stream",
     "text": [
      "WARNING:tensorflow:From /home/ubuntu/anaconda3/envs/tensorflow_p36/lib/python3.6/site-packages/tensorflow/python/ops/math_ops.py:3066: to_int32 (from tensorflow.python.ops.math_ops) is deprecated and will be removed in a future version.\n",
      "Instructions for updating:\n",
      "Use tf.cast instead.\n",
      "Epoch 1/25\n",
      "1041/1041 [==============================] - 807s 775ms/step - loss: 0.4729 - acc: 0.7811 - val_loss: 0.4246 - val_acc: 0.8046\n",
      "\n",
      "Epoch 00001: val_loss improved from inf to 0.42458, saving model to /data/ResNet50/ResNet50_20190403_exclusiveEVA_weights_2.h5\n",
      "Epoch 2/25\n",
      "1041/1041 [==============================] - 795s 764ms/step - loss: 0.3473 - acc: 0.8396 - val_loss: 0.4123 - val_acc: 0.8220\n",
      "\n",
      "Epoch 00002: val_loss improved from 0.42458 to 0.41235, saving model to /data/ResNet50/ResNet50_20190403_exclusiveEVA_weights_2.h5\n",
      "Epoch 3/25\n",
      "1041/1041 [==============================] - 797s 766ms/step - loss: 0.3135 - acc: 0.8557 - val_loss: 0.3772 - val_acc: 0.8277\n",
      "\n",
      "Epoch 00003: val_loss improved from 0.41235 to 0.37725, saving model to /data/ResNet50/ResNet50_20190403_exclusiveEVA_weights_2.h5\n",
      "Epoch 4/25\n",
      "1041/1041 [==============================] - 794s 763ms/step - loss: 0.3017 - acc: 0.8626 - val_loss: 0.3660 - val_acc: 0.8349\n",
      "\n",
      "Epoch 00004: val_loss improved from 0.37725 to 0.36596, saving model to /data/ResNet50/ResNet50_20190403_exclusiveEVA_weights_2.h5\n",
      "Epoch 5/25\n",
      "1041/1041 [==============================] - 793s 761ms/step - loss: 0.2870 - acc: 0.8691 - val_loss: 0.3711 - val_acc: 0.8300\n",
      "\n",
      "Epoch 00005: val_loss did not improve from 0.36596\n",
      "Epoch 6/25\n",
      "1041/1041 [==============================] - 793s 762ms/step - loss: 0.2775 - acc: 0.8741 - val_loss: 0.3557 - val_acc: 0.8410\n",
      "\n",
      "Epoch 00006: val_loss improved from 0.36596 to 0.35570, saving model to /data/ResNet50/ResNet50_20190403_exclusiveEVA_weights_2.h5\n",
      "Epoch 7/25\n",
      "1041/1041 [==============================] - 795s 764ms/step - loss: 0.2651 - acc: 0.8787 - val_loss: 0.3369 - val_acc: 0.8448\n",
      "\n",
      "Epoch 00007: val_loss improved from 0.35570 to 0.33685, saving model to /data/ResNet50/ResNet50_20190403_exclusiveEVA_weights_2.h5\n",
      "Epoch 8/25\n",
      "1041/1041 [==============================] - 791s 760ms/step - loss: 0.2626 - acc: 0.8828 - val_loss: 0.3474 - val_acc: 0.8401\n",
      "\n",
      "Epoch 00008: val_loss did not improve from 0.33685\n",
      "Epoch 9/25\n",
      "1041/1041 [==============================] - 791s 760ms/step - loss: 0.2571 - acc: 0.8834 - val_loss: 0.3465 - val_acc: 0.8388\n",
      "\n",
      "Epoch 00009: val_loss did not improve from 0.33685\n",
      "Epoch 10/25\n",
      "1041/1041 [==============================] - 790s 759ms/step - loss: 0.2512 - acc: 0.8898 - val_loss: 0.3488 - val_acc: 0.8430\n",
      "\n",
      "Epoch 00010: val_loss did not improve from 0.33685\n",
      "Epoch 11/25\n",
      "1041/1041 [==============================] - 791s 759ms/step - loss: 0.2490 - acc: 0.8886 - val_loss: 0.3390 - val_acc: 0.8483\n",
      "\n",
      "Epoch 00011: val_loss did not improve from 0.33685\n",
      "Epoch 12/25\n",
      "1041/1041 [==============================] - 789s 758ms/step - loss: 0.2437 - acc: 0.8897 - val_loss: 0.3466 - val_acc: 0.8458\n",
      "\n",
      "Epoch 00012: val_loss did not improve from 0.33685\n",
      "Epoch 13/25\n",
      "1041/1041 [==============================] - 790s 759ms/step - loss: 0.2401 - acc: 0.8925 - val_loss: 0.3473 - val_acc: 0.8537\n",
      "\n",
      "Epoch 00013: val_loss did not improve from 0.33685\n",
      "Epoch 14/25\n",
      "1041/1041 [==============================] - 791s 760ms/step - loss: 0.2294 - acc: 0.8964 - val_loss: 0.3454 - val_acc: 0.8452\n",
      "\n",
      "Epoch 00014: val_loss did not improve from 0.33685\n",
      "Epoch 15/25\n",
      "1041/1041 [==============================] - 792s 761ms/step - loss: 0.2336 - acc: 0.8955 - val_loss: 0.3616 - val_acc: 0.8385\n",
      "\n",
      "Epoch 00015: val_loss did not improve from 0.33685\n",
      "Epoch 16/25\n",
      "1041/1041 [==============================] - 790s 759ms/step - loss: 0.2278 - acc: 0.8994 - val_loss: 0.3629 - val_acc: 0.8398\n",
      "\n",
      "Epoch 00016: val_loss did not improve from 0.33685\n",
      "Epoch 17/25\n",
      "1041/1041 [==============================] - 792s 761ms/step - loss: 0.2222 - acc: 0.9006 - val_loss: 0.3366 - val_acc: 0.8540\n",
      "\n",
      "Epoch 00017: val_loss improved from 0.33685 to 0.33656, saving model to /data/ResNet50/ResNet50_20190403_exclusiveEVA_weights_2.h5\n",
      "Epoch 18/25\n",
      "1041/1041 [==============================] - 791s 760ms/step - loss: 0.2232 - acc: 0.8996 - val_loss: 0.3502 - val_acc: 0.8506\n",
      "\n",
      "Epoch 00018: val_loss did not improve from 0.33656\n",
      "Epoch 19/25\n",
      "1041/1041 [==============================] - 790s 759ms/step - loss: 0.2230 - acc: 0.8998 - val_loss: 0.3473 - val_acc: 0.8541\n",
      "\n",
      "Epoch 00019: val_loss did not improve from 0.33656\n",
      "Epoch 20/25\n",
      "1041/1041 [==============================] - 791s 759ms/step - loss: 0.2164 - acc: 0.9050 - val_loss: 0.3623 - val_acc: 0.8444\n",
      "\n",
      "Epoch 00020: val_loss did not improve from 0.33656\n",
      "Epoch 21/25\n",
      "1041/1041 [==============================] - 792s 760ms/step - loss: 0.2162 - acc: 0.9034 - val_loss: 0.3537 - val_acc: 0.8503\n",
      "\n",
      "Epoch 00021: val_loss did not improve from 0.33656\n",
      "Epoch 22/25\n",
      "1041/1041 [==============================] - 790s 758ms/step - loss: 0.2136 - acc: 0.9062 - val_loss: 0.3388 - val_acc: 0.8524\n",
      "\n",
      "Epoch 00022: val_loss did not improve from 0.33656\n",
      "Epoch 23/25\n",
      "1041/1041 [==============================] - 791s 760ms/step - loss: 0.2118 - acc: 0.9071 - val_loss: 0.3505 - val_acc: 0.8506\n",
      "\n",
      "Epoch 00023: val_loss did not improve from 0.33656\n",
      "Epoch 24/25\n",
      "1041/1041 [==============================] - 791s 760ms/step - loss: 0.2083 - acc: 0.9051 - val_loss: 0.3752 - val_acc: 0.8446\n",
      "\n",
      "Epoch 00024: val_loss did not improve from 0.33656\n",
      "Epoch 25/25\n",
      "1041/1041 [==============================] - 791s 760ms/step - loss: 0.2055 - acc: 0.9091 - val_loss: 0.3510 - val_acc: 0.8547\n",
      "\n",
      "Epoch 00025: val_loss did not improve from 0.33656\n"
     ]
    }
   ],
   "source": [
    "# fine-tune the model\n",
    "history = model.fit_generator(\n",
    "    train_generator,\n",
    "    steps_per_epoch=nb_train_samples//batch_size,\n",
    "    epochs=epochs,\n",
    "    validation_data=validation_generator,\n",
    "    validation_steps=nb_validation_samples//batch_size, \n",
    "    class_weight=class_weights, \n",
    "    max_queue_size=batch_size*4,\n",
    "    callbacks=[checkpointer, tboard])"
   ]
  },
  {
   "cell_type": "code",
   "execution_count": null,
   "metadata": {},
   "outputs": [],
   "source": []
  }
 ],
 "metadata": {
  "kernelspec": {
   "display_name": "Environment (conda_tensorflow_p36)",
   "language": "python",
   "name": "conda_tensorflow_p36"
  },
  "language_info": {
   "codemirror_mode": {
    "name": "ipython",
    "version": 3
   },
   "file_extension": ".py",
   "mimetype": "text/x-python",
   "name": "python",
   "nbconvert_exporter": "python",
   "pygments_lexer": "ipython3",
   "version": "3.6.5"
  }
 },
 "nbformat": 4,
 "nbformat_minor": 2
}
