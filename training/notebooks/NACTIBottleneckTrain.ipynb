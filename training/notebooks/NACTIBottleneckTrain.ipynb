{
 "cells": [
  {
   "cell_type": "code",
   "execution_count": 2,
   "metadata": {},
   "outputs": [],
   "source": [
    "import numpy as np\n",
    "from keras.preprocessing.image import ImageDataGenerator\n",
    "from keras.preprocessing import image\n",
    "from keras.models import Sequential\n",
    "from keras.layers import Dropout, Flatten, Dense\n",
    "from keras import applications\n",
    "import os\n",
    "from shutil import copyfile\n",
    "import time\n",
    "import pandas as pd\n",
    "from sklearn.preprocessing import OneHotEncoder\n",
    "from sklearn.metrics import confusion_matrix\n",
    "from keras.utils import to_categorical\n",
    "from keras.models import load_model\n",
    "import matplotlib.pyplot as plt\n",
    "%matplotlib inline"
   ]
  },
  {
   "cell_type": "code",
   "execution_count": 5,
   "metadata": {},
   "outputs": [],
   "source": [
    "# dimensions of our images.\n",
    "img_width, img_height = 150, 150\n",
    "\n",
    "top_model_weights_path = 'bottleneck_fc_model.h5'\n",
    "bottleneck_dir = '/data/nacti/initial_set/bottlenecks'\n",
    "train_bottlenecks = os.path.join(bottleneck_dir, 'bottleneck_features_train.npy')\n",
    "validation_bottlenecks = os.path.join(bottleneck_dir, 'bottleneck_features_validation.npy')\n",
    "train_data_dir = '/data/nacti/initial_set/train'\n",
    "validation_data_dir = '/data/nacti/initial_set/validation'\n",
    "nb_train_samples = sum([len(f) for r, d, f in os.walk(train_data_dir)])\n",
    "nb_validation_samples = sum([len(f) for r, d, f in os.walk(validation_data_dir)])\n",
    "epochs = 15\n",
    "bottleneck_batch_size = 1\n",
    "train_batch_size = 16"
   ]
  },
  {
   "cell_type": "code",
   "execution_count": 7,
   "metadata": {},
   "outputs": [],
   "source": [
    "def save_bottlebeck_features():\n",
    "    datagen = ImageDataGenerator(rescale=1. / 255)\n",
    "\n",
    "    # build the ResNet50 network\n",
    "    model = applications.ResNet50(include_top=False, weights='imagenet')\n",
    "\n",
    "    generator = datagen.flow_from_directory(\n",
    "        train_data_dir,\n",
    "        target_size=(img_width, img_height),\n",
    "        batch_size=batch_size,\n",
    "        class_mode=None,\n",
    "        shuffle=False)\n",
    "    bottleneck_features_train = model.predict_generator(\n",
    "        generator, nb_train_samples//batch_size)\n",
    "    np.save(open(train_bottlenecks, 'wb'),\n",
    "        bottleneck_features_train)\n",
    "\n",
    "    generator = datagen.flow_from_directory(\n",
    "        validation_data_dir,\n",
    "        target_size=(img_width, img_height),\n",
    "        batch_size=batch_size,\n",
    "        class_mode=None,\n",
    "        shuffle=False)\n",
    "    bottleneck_features_validation = model.predict_generator(\n",
    "        generator, nb_validation_samples//batch_size)\n",
    "    np.save(open(validation_bottlenecks, 'wb'),\n",
    "        bottleneck_features_validation)\n",
    "    \n",
    "def build_labels_from_directory(directory):\n",
    "    labels = []\n",
    "    for i, (r, s, f) in enumerate(os.walk(directory)):\n",
    "        labels += [i-1]*len(f)\n",
    "        \n",
    "    return to_categorical(np.array(labels))\n",
    "    \n",
    "def train_top_model():\n",
    "    train_data = np.load(train_bottlenecks)\n",
    "    train_labels = build_labels_from_directory(train_data_dir)\n",
    "\n",
    "    validation_data = np.load(validation_bottlenecks)\n",
    "    validation_labels = build_labels_from_directory(validation_data_dir)\n",
    "\n",
    "    model = Sequential()\n",
    "    model.add(Flatten(input_shape=train_data.shape[1:]))\n",
    "    model.add(Dense(256, activation='relu'))\n",
    "    model.add(Dropout(0.2))\n",
    "    model.add(Dense(64, activation='relu'))\n",
    "    model.add(Dropout(0.2))\n",
    "    model.add(Dense(15, activation='softmax'))\n",
    "\n",
    "    model.compile(optimizer='rmsprop',\n",
    "                  loss='categorical_crossentropy', metrics=['accuracy'])\n",
    "\n",
    "    model.fit(train_data, train_labels,\n",
    "              epochs=epochs,\n",
    "              batch_size=train_batch_size,\n",
    "              validation_data=(validation_data, validation_labels))\n",
    "    model.save_weights(top_model_weights_path)"
   ]
  },
  {
   "cell_type": "raw",
   "metadata": {},
   "source": [
    "save_bottlebeck_features()"
   ]
  },
  {
   "cell_type": "code",
   "execution_count": 7,
   "metadata": {},
   "outputs": [
    {
     "data": {
      "text/plain": [
       "(8087, 5, 5, 2048)"
      ]
     },
     "execution_count": 7,
     "metadata": {},
     "output_type": "execute_result"
    }
   ],
   "source": [
    "np.load(train_bottlenecks).shape"
   ]
  },
  {
   "cell_type": "code",
   "execution_count": 8,
   "metadata": {},
   "outputs": [
    {
     "data": {
      "text/plain": [
       "(2714, 5, 5, 2048)"
      ]
     },
     "execution_count": 8,
     "metadata": {},
     "output_type": "execute_result"
    }
   ],
   "source": [
    "np.load(validation_bottlenecks).shape"
   ]
  },
  {
   "cell_type": "code",
   "execution_count": 4,
   "metadata": {},
   "outputs": [
    {
     "name": "stdout",
     "output_type": "stream",
     "text": [
      "Train on 8087 samples, validate on 2714 samples\n",
      "Epoch 1/15\n",
      "8087/8087 [==============================] - 45s 6ms/step - loss: 2.8241 - acc: 0.1016 - val_loss: 2.4442 - val_acc: 0.1080\n",
      "Epoch 2/15\n",
      "8087/8087 [==============================] - 41s 5ms/step - loss: 2.4486 - acc: 0.1364 - val_loss: 2.3311 - val_acc: 0.1839\n",
      "Epoch 3/15\n",
      "8087/8087 [==============================] - 41s 5ms/step - loss: 2.3917 - acc: 0.1549 - val_loss: 2.3402 - val_acc: 0.1389\n",
      "Epoch 4/15\n",
      "8087/8087 [==============================] - 41s 5ms/step - loss: 2.3693 - acc: 0.1653 - val_loss: 2.3566 - val_acc: 0.1713\n",
      "Epoch 5/15\n",
      "8087/8087 [==============================] - 41s 5ms/step - loss: 2.3507 - acc: 0.1580 - val_loss: 2.5174 - val_acc: 0.1323\n",
      "Epoch 6/15\n",
      "8087/8087 [==============================] - 41s 5ms/step - loss: 2.3447 - acc: 0.1658 - val_loss: 2.2544 - val_acc: 0.2100\n",
      "Epoch 7/15\n",
      "8087/8087 [==============================] - 40s 5ms/step - loss: 2.3381 - acc: 0.1636 - val_loss: 2.2229 - val_acc: 0.2155\n",
      "Epoch 8/15\n",
      "8087/8087 [==============================] - 40s 5ms/step - loss: 2.3286 - acc: 0.1708 - val_loss: 2.2267 - val_acc: 0.2119\n",
      "Epoch 9/15\n",
      "8087/8087 [==============================] - 41s 5ms/step - loss: 2.3197 - acc: 0.1774 - val_loss: 2.2077 - val_acc: 0.2225\n",
      "Epoch 10/15\n",
      "8087/8087 [==============================] - 41s 5ms/step - loss: 2.3080 - acc: 0.1784 - val_loss: 2.2972 - val_acc: 0.1559\n",
      "Epoch 11/15\n",
      "8087/8087 [==============================] - 41s 5ms/step - loss: 2.2973 - acc: 0.1819 - val_loss: 2.3227 - val_acc: 0.1588\n",
      "Epoch 12/15\n",
      "8087/8087 [==============================] - 41s 5ms/step - loss: 2.3029 - acc: 0.1849 - val_loss: 2.4582 - val_acc: 0.1168\n",
      "Epoch 13/15\n",
      "8087/8087 [==============================] - 41s 5ms/step - loss: 2.2952 - acc: 0.1820 - val_loss: 2.1954 - val_acc: 0.2262\n",
      "Epoch 14/15\n",
      "8087/8087 [==============================] - 40s 5ms/step - loss: 2.2959 - acc: 0.1866 - val_loss: 2.1890 - val_acc: 0.2038\n",
      "Epoch 15/15\n",
      "8087/8087 [==============================] - 41s 5ms/step - loss: 2.2914 - acc: 0.1835 - val_loss: 2.1955 - val_acc: 0.2185\n"
     ]
    }
   ],
   "source": [
    "train_top_model()"
   ]
  },
  {
   "cell_type": "code",
   "execution_count": 3,
   "metadata": {},
   "outputs": [],
   "source": [
    "model = Sequential()\n",
    "model.add(Flatten(input_shape=(5,5,2048)))\n",
    "model.add(Dense(256, activation='relu'))\n",
    "model.add(Dropout(0.2))\n",
    "model.add(Dense(64, activation='relu'))\n",
    "model.add(Dropout(0.2))\n",
    "model.add(Dense(15, activation='softmax'))\n",
    "model.load_weights('/data/nacti/initial_set/bottleneck_fc_model.h5')"
   ]
  },
  {
   "cell_type": "code",
   "execution_count": 8,
   "metadata": {},
   "outputs": [],
   "source": [
    "preds = np.argmax(model.predict(np.load(validation_bottlenecks)), axis=1)\n",
    "labels = np.argmax(build_labels_from_directory(validation_data_dir), axis=1)"
   ]
  },
  {
   "cell_type": "code",
   "execution_count": 9,
   "metadata": {},
   "outputs": [
    {
     "data": {
      "text/plain": [
       "0.2184966838614591"
      ]
     },
     "execution_count": 9,
     "metadata": {},
     "output_type": "execute_result"
    }
   ],
   "source": [
    "sum(labels == preds)/len(labels)"
   ]
  },
  {
   "cell_type": "code",
   "execution_count": 10,
   "metadata": {},
   "outputs": [
    {
     "name": "stdout",
     "output_type": "stream",
     "text": [
      "[[  8  91   1   0   0   0   0   0   0   0   0   0   1 118  32]\n",
      " [ 23 153   0   0   0   0   0   0   0   0   0   0   0  32  43]\n",
      " [  1   2 182   0   0   0   0   0   0   0   0   0   8  33   0]\n",
      " [  0   0  74   0   0   0   0   0   0   0   0   0   7 165   5]\n",
      " [  0   0   4   0   0   0   0   0   0   0   0   0   3  29   0]\n",
      " [  3   2  34   0   0   0   0   0   0   0   0   0  11 195   6]\n",
      " [  9  32  70   0   0   0   0   0   0   0   0   0   5 113  22]\n",
      " [  0   0  24   0   0   0   0   0   0   0   0   0   0   3   0]\n",
      " [  0   0 107   0   0   0   0   0   0   0   0   0   4  12   0]\n",
      " [  0   0  33   0   0   0   0   0   0   0   0   0   2  61   0]\n",
      " [  1   0  14   0   0   0   0   0   0   0   0   0   9 144   3]\n",
      " [  0   0  14   0   0   0   0   0   0   0   0   0   2  10   1]\n",
      " [  0   0 137   0   0   0   0   0   0   0   0   0   8 106   0]\n",
      " [  3  11   1   0   0   0   0   0   0   0   0   0   2 223  11]\n",
      " [ 17  84   3   0   0   0   0   0   0   0   0   0   6 122  19]]\n"
     ]
    }
   ],
   "source": [
    "print(confusion_matrix(labels, preds))"
   ]
  },
  {
   "cell_type": "code",
   "execution_count": 13,
   "metadata": {},
   "outputs": [
    {
     "data": {
      "text/plain": [
       "<matplotlib.image.AxesImage at 0x7f3cf25a8978>"
      ]
     },
     "execution_count": 13,
     "metadata": {},
     "output_type": "execute_result"
    },
    {
     "data": {
      "image/png": "[encoded data removed]",
      "text/plain": [
       "<Figure size 432x288 with 1 Axes>"
      ]
     },
     "metadata": {
      "needs_background": "light"
     },
     "output_type": "display_data"
    }
   ],
   "source": [
    "plt.imshow(confusion_matrix(labels, preds))"
   ]
  },
  {
   "cell_type": "code",
   "execution_count": null,
   "metadata": {},
   "outputs": [],
   "source": []
  }
 ],
 "metadata": {
  "kernelspec": {
   "display_name": "Python 3",
   "language": "python",
   "name": "python3"
  },
  "language_info": {
   "codemirror_mode": {
    "name": "ipython",
    "version": 3
   },
   "file_extension": ".py",
   "mimetype": "text/x-python",
   "name": "python",
   "nbconvert_exporter": "python",
   "pygments_lexer": "ipython3",
   "version": "3.7.1"
  }
 },
 "nbformat": 4,
 "nbformat_minor": 2
}
