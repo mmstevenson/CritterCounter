{
 "cells": [
  {
   "cell_type": "code",
   "execution_count": 1,
   "metadata": {},
   "outputs": [
    {
     "name": "stderr",
     "output_type": "stream",
     "text": [
      "Using TensorFlow backend.\n"
     ]
    }
   ],
   "source": [
    "'''\n",
    "'''\n",
    "\n",
    "from keras import applications\n",
    "from keras.preprocessing.image import ImageDataGenerator\n",
    "from keras import optimizers\n",
    "from keras.models import Sequential\n",
    "from keras.layers import Dropout, Flatten, Dense\n",
    "from keras.utils.training_utils import multi_gpu_model\n",
    "from keras.callbacks import ModelCheckpoint, TensorBoard\n",
    "\n",
    "from collections import Counter\n",
    "\n",
    "import os\n",
    "# os.environ[\"CUDA_DEVICE_ORDER\"]=\"PCI_BUS_ID\"   # see issue #152\n",
    "os.environ[\"CUDA_VISIBLE_DEVICES\"]=\"1\""
   ]
  },
  {
   "cell_type": "code",
   "execution_count": 2,
   "metadata": {},
   "outputs": [],
   "source": [
    "# path to the model weights files.\n",
    "# weights_path = '../keras/examples/vgg16_weights.h5'\n",
    "# top_model_weights_path = 'fc_model.h5'\n",
    "# dimensions of our images.\n",
    "img_width, img_height = 224, 224\n",
    "\n",
    "train_data_dir = '/subset_data/training_data/train'\n",
    "validation_data_dir = '/subset_data/training_data/val'\n",
    "checkpoint_dir = '/subset_data/MobileNetV2/MobileNetV2_20190323_weights.h5'\n",
    "tensorboard_dir = '/subset_data/MobileNetV2/'\n",
    "nb_train_samples = 25000\n",
    "nb_validation_samples = 5000\n",
    "epochs = 25\n",
    "batch_size = 32\n",
    "# gpu_count = 2"
   ]
  },
  {
   "cell_type": "code",
   "execution_count": 3,
   "metadata": {},
   "outputs": [
    {
     "name": "stdout",
     "output_type": "stream",
     "text": [
      "WARNING:tensorflow:From /home/ubuntu/anaconda3/envs/tensorflow_p36/lib/python3.6/site-packages/tensorflow/python/framework/op_def_library.py:263: colocate_with (from tensorflow.python.framework.ops) is deprecated and will be removed in a future version.\n",
      "Instructions for updating:\n",
      "Colocations handled automatically by placer.\n",
      "Model loaded.\n",
      "WARNING:tensorflow:From /home/ubuntu/anaconda3/envs/tensorflow_p36/lib/python3.6/site-packages/keras/backend/tensorflow_backend.py:3445: calling dropout (from tensorflow.python.ops.nn_ops) with keep_prob is deprecated and will be removed in a future version.\n",
      "Instructions for updating:\n",
      "Please use `rate` instead of `keep_prob`. Rate should be set to `rate = 1 - keep_prob`.\n"
     ]
    }
   ],
   "source": [
    "# build the MobileNetV2 network\n",
    "MobileNetV2 = applications.MobileNetV2(weights='imagenet', include_top=False, input_shape=(img_width, img_height, 3))\n",
    "print('Model loaded.')\n",
    "\n",
    "# build a classifier model to put on top of the convolutional model\n",
    "model = Sequential()\n",
    "model.add(MobileNetV2)\n",
    "model.add(Flatten(input_shape=model.output_shape[1:]))\n",
    "model.add(Dense(256, activation='relu'))\n",
    "model.add(Dropout(0.5))\n",
    "model.add(Dense(15, activation='softmax'))\n",
    "\n",
    "# model = multi_gpu_model(model, gpus=gpu_count)\n",
    "\n",
    "# note that it is necessary to start with a fully-trained\n",
    "# classifier, including the top classifier,\n",
    "# in order to successfully do fine-tuning\n",
    "# top_model.load_weights(top_model_weights_path)\n",
    "\n",
    "# set the first 25 layers (up to the last conv block)\n",
    "# to non-trainable (weights will not be updated)\n",
    "# for layer in model.layers[:25]:\n",
    "#     layer.trainable = False\n",
    "\n",
    "# compile the model with a SGD/momentum optimizer\n",
    "# and a very slow learning rate.\n",
    "model.compile(loss='categorical_crossentropy',\n",
    "              optimizer=optimizers.SGD(lr=1e-4, momentum=0.9),\n",
    "              metrics=['accuracy'])\n",
    "\n",
    "checkpointer = ModelCheckpoint(filepath=checkpoint_dir, verbose=1, save_best_only=True)\n",
    "tboard = TensorBoard(tensorboard_dir)"
   ]
  },
  {
   "cell_type": "code",
   "execution_count": 4,
   "metadata": {},
   "outputs": [
    {
     "name": "stdout",
     "output_type": "stream",
     "text": [
      "Found 307929 images belonging to 15 classes.\n",
      "Found 65983 images belonging to 15 classes.\n"
     ]
    }
   ],
   "source": [
    "# prepare data augmentation configuration\n",
    "train_datagen = ImageDataGenerator(\n",
    "    rescale=1. / 255,\n",
    "    shear_range=0.2,\n",
    "    zoom_range=0.2,\n",
    "    horizontal_flip=True)\n",
    "\n",
    "validation_datagen = ImageDataGenerator(rescale=1. / 255)        \n",
    "\n",
    "train_generator = train_datagen.flow_from_directory(\n",
    "    train_data_dir,\n",
    "    target_size=(img_height, img_width),\n",
    "    batch_size=batch_size,\n",
    "    class_mode='categorical', \n",
    "    shuffle=True)\n",
    "\n",
    "validation_generator = validation_datagen.flow_from_directory(\n",
    "    validation_data_dir,\n",
    "    target_size=(img_height, img_width),\n",
    "    batch_size=batch_size,\n",
    "    class_mode='categorical', \n",
    "    shuffle=True)\n",
    "\n",
    "counter = Counter(train_generator.classes)                          \n",
    "max_val = float(max(counter.values()))       \n",
    "class_weights = {class_id : max_val/num_images for class_id, num_images in counter.items()}  "
   ]
  },
  {
   "cell_type": "code",
   "execution_count": 5,
   "metadata": {},
   "outputs": [
    {
     "data": {
      "text/plain": [
       "{0: 1.1302171631549205,\n",
       " 1: 3.930155521868508,\n",
       " 2: 6.776379477250726,\n",
       " 3: 4.5564017444509535,\n",
       " 4: 1.0,\n",
       " 5: 132.82732447817835,\n",
       " 6: 4.5158376878911035,\n",
       " 7: 1.0,\n",
       " 8: 9.775171065493646,\n",
       " 9: 10.03584229390681,\n",
       " 10: 57.995028997514495,\n",
       " 11: 3.843830651803855,\n",
       " 12: 7.353713625380817,\n",
       " 13: 22.89826627412496,\n",
       " 14: 210.84337349397592}"
      ]
     },
     "execution_count": 5,
     "metadata": {},
     "output_type": "execute_result"
    }
   ],
   "source": [
    "class_weights"
   ]
  },
  {
   "cell_type": "code",
   "execution_count": null,
   "metadata": {},
   "outputs": [
    {
     "name": "stdout",
     "output_type": "stream",
     "text": [
      "WARNING:tensorflow:From /home/ubuntu/anaconda3/envs/tensorflow_p36/lib/python3.6/site-packages/tensorflow/python/ops/math_ops.py:3066: to_int32 (from tensorflow.python.ops.math_ops) is deprecated and will be removed in a future version.\n",
      "Instructions for updating:\n",
      "Use tf.cast instead.\n",
      "Epoch 1/25\n",
      "781/781 [==============================] - 1306s 2s/step - loss: 7.2085 - acc: 0.3480 - val_loss: 1.9182 - val_acc: 0.3431\n",
      "\n",
      "Epoch 00001: val_loss improved from inf to 1.91817, saving model to /subset_data/MobileNetV2/MobileNetV2_20190323_weights.h5\n",
      "Epoch 2/25\n",
      "781/781 [==============================] - 1287s 2s/step - loss: 5.2741 - acc: 0.5042 - val_loss: 1.5524 - val_acc: 0.5044\n",
      "\n",
      "Epoch 00002: val_loss improved from 1.91817 to 1.55244, saving model to /subset_data/MobileNetV2/MobileNetV2_20190323_weights.h5\n",
      "Epoch 3/25\n",
      "781/781 [==============================] - 1284s 2s/step - loss: 4.5632 - acc: 0.5878 - val_loss: 1.8505 - val_acc: 0.4221\n",
      "\n",
      "Epoch 00003: val_loss did not improve from 1.55244\n",
      "Epoch 4/25\n",
      "781/781 [==============================] - 1274s 2s/step - loss: 4.1351 - acc: 0.6274 - val_loss: 1.6970 - val_acc: 0.4978\n",
      "\n",
      "Epoch 00004: val_loss did not improve from 1.55244\n",
      "Epoch 5/25\n",
      "781/781 [==============================] - 1272s 2s/step - loss: 4.0493 - acc: 0.6249 - val_loss: 1.6066 - val_acc: 0.5321\n",
      "\n",
      "Epoch 00005: val_loss did not improve from 1.55244\n",
      "Epoch 6/25\n",
      "781/781 [==============================] - 1280s 2s/step - loss: 3.8445 - acc: 0.6450 - val_loss: 1.2606 - val_acc: 0.6102\n",
      "\n",
      "Epoch 00006: val_loss improved from 1.55244 to 1.26060, saving model to /subset_data/MobileNetV2/MobileNetV2_20190323_weights.h5\n",
      "Epoch 7/25\n",
      "781/781 [==============================] - 1273s 2s/step - loss: 3.4807 - acc: 0.6626 - val_loss: 1.7528 - val_acc: 0.5671\n",
      "\n",
      "Epoch 00007: val_loss did not improve from 1.26060\n",
      "Epoch 8/25\n",
      "781/781 [==============================] - 1281s 2s/step - loss: 3.2137 - acc: 0.6919 - val_loss: 1.3233 - val_acc: 0.6054\n",
      "\n",
      "Epoch 00008: val_loss did not improve from 1.26060\n",
      "Epoch 9/25\n",
      "781/781 [==============================] - 1275s 2s/step - loss: 2.9799 - acc: 0.7115 - val_loss: 1.5932 - val_acc: 0.5779\n",
      "\n",
      "Epoch 00009: val_loss did not improve from 1.26060\n",
      "Epoch 10/25\n",
      "781/781 [==============================] - 1273s 2s/step - loss: 3.0752 - acc: 0.7169 - val_loss: 1.1293 - val_acc: 0.6605\n",
      "\n",
      "Epoch 00010: val_loss improved from 1.26060 to 1.12933, saving model to /subset_data/MobileNetV2/MobileNetV2_20190323_weights.h5\n",
      "Epoch 11/25\n",
      "781/781 [==============================] - 1275s 2s/step - loss: 3.2445 - acc: 0.6894 - val_loss: 2.8866 - val_acc: 0.2702\n",
      "\n",
      "Epoch 00011: val_loss did not improve from 1.12933\n",
      "Epoch 12/25\n",
      "781/781 [==============================] - 1273s 2s/step - loss: 3.2520 - acc: 0.7062 - val_loss: 1.2751 - val_acc: 0.5998\n",
      "\n",
      "Epoch 00012: val_loss did not improve from 1.12933\n",
      "Epoch 13/25\n",
      "781/781 [==============================] - 1273s 2s/step - loss: 2.8246 - acc: 0.7409 - val_loss: 0.9931 - val_acc: 0.6897\n",
      "\n",
      "Epoch 00013: val_loss improved from 1.12933 to 0.99306, saving model to /subset_data/MobileNetV2/MobileNetV2_20190323_weights.h5\n",
      "Epoch 14/25\n",
      "781/781 [==============================] - 1274s 2s/step - loss: 2.7638 - acc: 0.7298 - val_loss: 0.9907 - val_acc: 0.6776\n",
      "\n",
      "Epoch 00014: val_loss improved from 0.99306 to 0.99066, saving model to /subset_data/MobileNetV2/MobileNetV2_20190323_weights.h5\n",
      "Epoch 15/25\n",
      "781/781 [==============================] - 1272s 2s/step - loss: 2.1409 - acc: 0.7785 - val_loss: 1.0290 - val_acc: 0.6995\n",
      "\n",
      "Epoch 00015: val_loss did not improve from 0.99066\n",
      "Epoch 16/25\n",
      "781/781 [==============================] - 1274s 2s/step - loss: 2.4094 - acc: 0.7605 - val_loss: 0.9993 - val_acc: 0.7093\n",
      "\n",
      "Epoch 00016: val_loss did not improve from 0.99066\n",
      "Epoch 17/25\n",
      "781/781 [==============================] - 1288s 2s/step - loss: 2.3605 - acc: 0.7369 - val_loss: 1.6847 - val_acc: 0.5262\n",
      "\n",
      "Epoch 00017: val_loss did not improve from 0.99066\n",
      "Epoch 18/25\n",
      "492/781 [=================>............] - ETA: 7:00 - loss: 2.0994 - acc: 0.7757"
     ]
    }
   ],
   "source": [
    "# fine-tune the model\n",
    "model.fit_generator(\n",
    "    train_generator,\n",
    "    steps_per_epoch=nb_train_samples//batch_size,\n",
    "    epochs=epochs,\n",
    "    validation_data=validation_generator,\n",
    "    validation_steps=nb_validation_samples//batch_size, \n",
    "    class_weight=class_weights, \n",
    "    callbacks=[checkpointer, tboard])"
   ]
  },
  {
   "cell_type": "code",
   "execution_count": null,
   "metadata": {},
   "outputs": [],
   "source": []
  }
 ],
 "metadata": {
  "kernelspec": {
   "display_name": "Environment (conda_tensorflow_p36)",
   "language": "python",
   "name": "conda_tensorflow_p36"
  },
  "language_info": {
   "codemirror_mode": {
    "name": "ipython",
    "version": 3
   },
   "file_extension": ".py",
   "mimetype": "text/x-python",
   "name": "python",
   "nbconvert_exporter": "python",
   "pygments_lexer": "ipython3",
   "version": "3.6.5"
  }
 },
 "nbformat": 4,
 "nbformat_minor": 2
}
